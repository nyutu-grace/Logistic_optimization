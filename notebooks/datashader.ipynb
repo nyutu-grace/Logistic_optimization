{
 "cells": [
  {
   "cell_type": "code",
   "execution_count": 1,
   "metadata": {},
   "outputs": [
    {
     "name": "stderr",
     "output_type": "stream",
     "text": [
      "/home/grace-nyutu/Documents/Logistic_optimization/venv/lib/python3.12/site-packages/dask/dataframe/__init__.py:31: FutureWarning: \n",
      "Dask dataframe query planning is disabled because dask-expr is not installed.\n",
      "\n",
      "You can install it with `pip install dask[dataframe]` or `conda install dask`.\n",
      "This will raise in a future version.\n",
      "\n",
      "  warnings.warn(msg, FutureWarning)\n"
     ]
    }
   ],
   "source": [
    "import pandas as pd\n",
    "import datashader as ds\n",
    "import datashader.transfer_functions as tf\n",
    "from datashader.utils import export_image\n",
    "import colorcet as cc"
   ]
  },
  {
   "cell_type": "code",
   "execution_count": 2,
   "metadata": {},
   "outputs": [],
   "source": [
    "df = pd.read_csv('../data/processeddata/mergeddata.csv')"
   ]
  },
  {
   "cell_type": "code",
   "execution_count": 3,
   "metadata": {},
   "outputs": [
    {
     "name": "stdout",
     "output_type": "stream",
     "text": [
      "<class 'pandas.core.frame.DataFrame'>\n",
      "RangeIndex: 1557740 entries, 0 to 1557739\n",
      "Data columns (total 16 columns):\n",
      " #   Column                 Non-Null Count    Dtype  \n",
      "---  ------                 --------------    -----  \n",
      " 0   Trip ID                1557740 non-null  int64  \n",
      " 1   Trip Origin            1557740 non-null  object \n",
      " 2   Trip Destination       1557740 non-null  object \n",
      " 3   Trip Start Time        1555718 non-null  object \n",
      " 4   Trip End Time          1557740 non-null  object \n",
      " 5   datetime               1557740 non-null  object \n",
      " 6   hour                   1557740 non-null  int64  \n",
      " 7   is_weekend             1557740 non-null  bool   \n",
      " 8   driver_id              1557740 non-null  int64  \n",
      " 9   driver_action          1557740 non-null  object \n",
      " 10  Driver Location        1557740 non-null  object \n",
      " 11  driver_clientdistance  1557740 non-null  float64\n",
      " 12  day_of_week            1557740 non-null  object \n",
      " 13  lat                    1557740 non-null  float64\n",
      " 14  lon                    1557740 non-null  float64\n",
      " 15  date                   1557740 non-null  object \n",
      "dtypes: bool(1), float64(3), int64(3), object(9)\n",
      "memory usage: 179.8+ MB\n"
     ]
    }
   ],
   "source": [
    "df.info()"
   ]
  },
  {
   "cell_type": "code",
   "execution_count": 4,
   "metadata": {},
   "outputs": [],
   "source": [
    "# Define a function to create Datashader plots\n",
    "def create_datashader_plot(df, x_col, y_col, agg_col, plot_width=800, plot_height=600, cmap=cc.fire):\n",
    "    cvs = ds.Canvas(plot_width=plot_width, plot_height=plot_height)\n",
    "    agg = cvs.points(df, x_col, y_col, ds.mean(agg_col))\n",
    "    img = tf.shade(agg, cmap=cmap)\n",
    "    return img"
   ]
  },
  {
   "cell_type": "code",
   "execution_count": 5,
   "metadata": {},
   "outputs": [],
   "source": [
    "# Plot driver locations with driver-client distance\n",
    "img = create_datashader_plot(df, 'lon', 'lat', 'driver_clientdistance')"
   ]
  },
  {
   "cell_type": "code",
   "execution_count": 6,
   "metadata": {},
   "outputs": [
    {
     "name": "stdout",
     "output_type": "stream",
     "text": [
      "Plots have been generated and saved as images.\n"
     ]
    }
   ],
   "source": [
    "# Plot accepted and rejected actions\n",
    "df_accepted = df[df['driver_action'] == 'accepted']\n",
    "df_rejected = df[df['driver_action'] == 'rejected']\n",
    "\n",
    "img_accepted = create_datashader_plot(df_accepted, 'lon', 'lat', 'driver_clientdistance', cmap=cc.kbc)\n",
    "img_rejected = create_datashader_plot(df_rejected, 'lon', 'lat', 'driver_clientdistance', cmap=cc.fire)\n",
    "\n",
    "export_image(img_accepted, 'driver_locations_accepted')\n",
    "export_image(img_rejected, 'driver_locations_rejected')\n",
    "\n",
    "print(\"Plots have been generated and saved as images.\")"
   ]
  },
  {
   "cell_type": "code",
   "execution_count": 7,
   "metadata": {},
   "outputs": [],
   "source": [
    "# Extract latitude and longitude from 'Driver Location'\n",
    "df[['start_lat', 'start_lon']] = df['Trip Origin'].str.split(',', expand=True)\n",
    "df['start_lat'] = df['start_lat'].astype(float)\n",
    "df['start_lon'] = df['start_lon'].astype(float)"
   ]
  },
  {
   "cell_type": "code",
   "execution_count": 8,
   "metadata": {},
   "outputs": [],
   "source": [
    "from sklearn.cluster import KMeans\n",
    "import folium\n",
    "from datashader.colors import colormap_select, Greys9\n",
    "import matplotlib.pyplot as plt\n",
    "\n",
    "# Perform KMeans clustering\n",
    "coords = df[['start_lat', 'start_lon']]\n",
    "kmeans = KMeans(n_clusters=10)\n",
    "df['start_cluster'] = kmeans.fit_predict(coords)\n",
    "\n",
    "# Plot clusters on a map using Folium\n",
    "map = folium.Map(location=[df['start_lat'].mean(), df['start_lon'].mean()], zoom_start=12)\n",
    "for idx, row in df.iterrows():\n",
    "    folium.CircleMarker(location=[row['start_lat'], row['start_lon']],\n",
    "                        radius=5,\n",
    "                        color='blue' if row['start_cluster'] == 0 else 'red',\n",
    "                        fill=True).add_to(map)\n",
    "\n",
    "map.save('clusters_map.html')\n",
    "\n",
    "# Advanced visualization with Datashader\n",
    "cvs = ds.Canvas(plot_width=800, plot_height=800)\n",
    "agg = cvs.points(df, 'start_lon', 'start_lat')\n",
    "img = tf.shade(agg, cmap=Greys9, how='log')\n",
    "tf.set_background(img, \"white\").to_pil()\n",
    "plt.imshow(img.to_pil())\n",
    "plt.show()"
   ]
  },
  {
   "cell_type": "code",
   "execution_count": null,
   "metadata": {},
   "outputs": [],
   "source": []
  }
 ],
 "metadata": {
  "kernelspec": {
   "display_name": "venv",
   "language": "python",
   "name": "python3"
  },
  "language_info": {
   "codemirror_mode": {
    "name": "ipython",
    "version": 3
   },
   "file_extension": ".py",
   "mimetype": "text/x-python",
   "name": "python",
   "nbconvert_exporter": "python",
   "pygments_lexer": "ipython3",
   "version": "3.12.3"
  }
 },
 "nbformat": 4,
 "nbformat_minor": 2
}
