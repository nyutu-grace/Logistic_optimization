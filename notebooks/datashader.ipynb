{
 "cells": [
  {
   "cell_type": "code",
   "execution_count": 1,
   "metadata": {},
   "outputs": [
    {
     "name": "stderr",
     "output_type": "stream",
     "text": [
      "/home/grace-nyutu/Documents/Logistic_optimization/venv/lib/python3.12/site-packages/dask/dataframe/__init__.py:31: FutureWarning: \n",
      "Dask dataframe query planning is disabled because dask-expr is not installed.\n",
      "\n",
      "You can install it with `pip install dask[dataframe]` or `conda install dask`.\n",
      "This will raise in a future version.\n",
      "\n",
      "  warnings.warn(msg, FutureWarning)\n"
     ]
    }
   ],
   "source": [
    "import pandas as pd\n",
    "import datashader as ds\n",
    "import datashader.transfer_functions as tf\n",
    "from datashader.utils import export_image\n",
    "import colorcet as cc"
   ]
  },
  {
   "cell_type": "code",
   "execution_count": 2,
   "metadata": {},
   "outputs": [],
   "source": [
    "df = pd.read_csv('../data/processeddata/mergeddata.csv')"
   ]
  },
  {
   "cell_type": "code",
   "execution_count": 3,
   "metadata": {},
   "outputs": [
    {
     "name": "stdout",
     "output_type": "stream",
     "text": [
      "<class 'pandas.core.frame.DataFrame'>\n",
      "RangeIndex: 1557740 entries, 0 to 1557739\n",
      "Data columns (total 16 columns):\n",
      " #   Column                 Non-Null Count    Dtype  \n",
      "---  ------                 --------------    -----  \n",
      " 0   Trip ID                1557740 non-null  int64  \n",
      " 1   Trip Origin            1557740 non-null  object \n",
      " 2   Trip Destination       1557740 non-null  object \n",
      " 3   Trip Start Time        1555718 non-null  object \n",
      " 4   Trip End Time          1557740 non-null  object \n",
      " 5   datetime               1557740 non-null  object \n",
      " 6   hour                   1557740 non-null  int64  \n",
      " 7   is_weekend             1557740 non-null  bool   \n",
      " 8   driver_id              1557740 non-null  int64  \n",
      " 9   driver_action          1557740 non-null  object \n",
      " 10  Driver Location        1557740 non-null  object \n",
      " 11  driver_clientdistance  1557740 non-null  float64\n",
      " 12  day_of_week            1557740 non-null  object \n",
      " 13  lat                    1557740 non-null  float64\n",
      " 14  lon                    1557740 non-null  float64\n",
      " 15  date                   1557740 non-null  object \n",
      "dtypes: bool(1), float64(3), int64(3), object(9)\n",
      "memory usage: 179.8+ MB\n"
     ]
    }
   ],
   "source": [
    "df.info()"
   ]
  },
  {
   "cell_type": "code",
   "execution_count": 4,
   "metadata": {},
   "outputs": [],
   "source": [
    "# Define a function to create Datashader plots\n",
    "def create_datashader_plot(df, x_col, y_col, agg_col, plot_width=800, plot_height=600, cmap=cc.fire):\n",
    "    cvs = ds.Canvas(plot_width=plot_width, plot_height=plot_height)\n",
    "    agg = cvs.points(df, x_col, y_col, ds.mean(agg_col))\n",
    "    img = tf.shade(agg, cmap=cmap)\n",
    "    return img"
   ]
  },
  {
   "cell_type": "code",
   "execution_count": 5,
   "metadata": {},
   "outputs": [],
   "source": [
    "# Plot driver locations with driver-client distance\n",
    "img = create_datashader_plot(df, 'lon', 'lat', 'driver_clientdistance')"
   ]
  },
  {
   "cell_type": "code",
   "execution_count": 6,
   "metadata": {},
   "outputs": [
    {
     "name": "stdout",
     "output_type": "stream",
     "text": [
      "Plots have been generated and saved as images.\n"
     ]
    }
   ],
   "source": [
    "# Plot accepted and rejected actions\n",
    "df_accepted = df[df['driver_action'] == 'accepted']\n",
    "df_rejected = df[df['driver_action'] == 'rejected']\n",
    "\n",
    "img_accepted = create_datashader_plot(df_accepted, 'lon', 'lat', 'driver_clientdistance', cmap=cc.kbc)\n",
    "img_rejected = create_datashader_plot(df_rejected, 'lon', 'lat', 'driver_clientdistance', cmap=cc.fire)\n",
    "\n",
    "export_image(img_accepted, 'driver_locations_accepted')\n",
    "export_image(img_rejected, 'driver_locations_rejected')\n",
    "\n",
    "print(\"Plots have been generated and saved as images.\")"
   ]
  },
  {
   "cell_type": "code",
   "execution_count": 8,
   "metadata": {},
   "outputs": [
    {
     "ename": "ValueError",
     "evalue": "input must be numeric",
     "output_type": "error",
     "traceback": [
      "\u001b[0;31m---------------------------------------------------------------------------\u001b[0m",
      "\u001b[0;31mValueError\u001b[0m                                Traceback (most recent call last)",
      "Cell \u001b[0;32mIn[8], line 1\u001b[0m\n\u001b[0;32m----> 1\u001b[0m img_distance \u001b[38;5;241m=\u001b[39m \u001b[43mcreate_datashader_plot\u001b[49m\u001b[43m(\u001b[49m\u001b[43mdf\u001b[49m\u001b[43m,\u001b[49m\u001b[43m \u001b[49m\u001b[38;5;124;43m'\u001b[39;49m\u001b[38;5;124;43mlon\u001b[39;49m\u001b[38;5;124;43m'\u001b[39;49m\u001b[43m,\u001b[49m\u001b[43m \u001b[49m\u001b[38;5;124;43m'\u001b[39;49m\u001b[38;5;124;43mlat\u001b[39;49m\u001b[38;5;124;43m'\u001b[39;49m\u001b[43m,\u001b[49m\u001b[43m \u001b[49m\u001b[38;5;124;43m'\u001b[39;49m\u001b[38;5;124;43mTrip Origin\u001b[39;49m\u001b[38;5;124;43m'\u001b[39;49m\u001b[43m,\u001b[49m\u001b[43m \u001b[49m\u001b[43mcmap\u001b[49m\u001b[38;5;241;43m=\u001b[39;49m\u001b[43mcc\u001b[49m\u001b[38;5;241;43m.\u001b[39;49m\u001b[43mkbc\u001b[49m\u001b[43m)\u001b[49m\n",
      "Cell \u001b[0;32mIn[4], line 4\u001b[0m, in \u001b[0;36mcreate_datashader_plot\u001b[0;34m(df, x_col, y_col, agg_col, plot_width, plot_height, cmap)\u001b[0m\n\u001b[1;32m      2\u001b[0m \u001b[38;5;28;01mdef\u001b[39;00m \u001b[38;5;21mcreate_datashader_plot\u001b[39m(df, x_col, y_col, agg_col, plot_width\u001b[38;5;241m=\u001b[39m\u001b[38;5;241m800\u001b[39m, plot_height\u001b[38;5;241m=\u001b[39m\u001b[38;5;241m600\u001b[39m, cmap\u001b[38;5;241m=\u001b[39mcc\u001b[38;5;241m.\u001b[39mfire):\n\u001b[1;32m      3\u001b[0m     cvs \u001b[38;5;241m=\u001b[39m ds\u001b[38;5;241m.\u001b[39mCanvas(plot_width\u001b[38;5;241m=\u001b[39mplot_width, plot_height\u001b[38;5;241m=\u001b[39mplot_height)\n\u001b[0;32m----> 4\u001b[0m     agg \u001b[38;5;241m=\u001b[39m \u001b[43mcvs\u001b[49m\u001b[38;5;241;43m.\u001b[39;49m\u001b[43mpoints\u001b[49m\u001b[43m(\u001b[49m\u001b[43mdf\u001b[49m\u001b[43m,\u001b[49m\u001b[43m \u001b[49m\u001b[43mx_col\u001b[49m\u001b[43m,\u001b[49m\u001b[43m \u001b[49m\u001b[43my_col\u001b[49m\u001b[43m,\u001b[49m\u001b[43m \u001b[49m\u001b[43mds\u001b[49m\u001b[38;5;241;43m.\u001b[39;49m\u001b[43mmean\u001b[49m\u001b[43m(\u001b[49m\u001b[43magg_col\u001b[49m\u001b[43m)\u001b[49m\u001b[43m)\u001b[49m\n\u001b[1;32m      5\u001b[0m     img \u001b[38;5;241m=\u001b[39m tf\u001b[38;5;241m.\u001b[39mshade(agg, cmap\u001b[38;5;241m=\u001b[39mcmap)\n\u001b[1;32m      6\u001b[0m     \u001b[38;5;28;01mreturn\u001b[39;00m img\n",
      "File \u001b[0;32m~/Documents/Logistic_optimization/venv/lib/python3.12/site-packages/datashader/core.py:223\u001b[0m, in \u001b[0;36mCanvas.points\u001b[0;34m(self, source, x, y, agg, geometry)\u001b[0m\n\u001b[1;32m    216\u001b[0m     \u001b[38;5;28;01melse\u001b[39;00m:\n\u001b[1;32m    217\u001b[0m         \u001b[38;5;28;01mraise\u001b[39;00m \u001b[38;5;167;01mValueError\u001b[39;00m(\n\u001b[1;32m    218\u001b[0m             \u001b[38;5;124m\"\u001b[39m\u001b[38;5;124msource must be an instance of spatialpandas.GeoDataFrame, \u001b[39m\u001b[38;5;124m\"\u001b[39m\n\u001b[1;32m    219\u001b[0m             \u001b[38;5;124m\"\u001b[39m\u001b[38;5;124mspatialpandas.dask.DaskGeoDataFrame, geopandas.GeoDataFrame, or \u001b[39m\u001b[38;5;124m\"\u001b[39m\n\u001b[1;32m    220\u001b[0m             \u001b[38;5;124m\"\u001b[39m\u001b[38;5;124mdask_geopandas.GeoDataFrame. Received objects of type \u001b[39m\u001b[38;5;132;01m{typ}\u001b[39;00m\u001b[38;5;124m\"\u001b[39m\u001b[38;5;241m.\u001b[39mformat(\n\u001b[1;32m    221\u001b[0m                 typ\u001b[38;5;241m=\u001b[39m\u001b[38;5;28mtype\u001b[39m(source)))\n\u001b[0;32m--> 223\u001b[0m \u001b[38;5;28;01mreturn\u001b[39;00m \u001b[43mbypixel\u001b[49m\u001b[43m(\u001b[49m\u001b[43msource\u001b[49m\u001b[43m,\u001b[49m\u001b[43m \u001b[49m\u001b[38;5;28;43mself\u001b[39;49m\u001b[43m,\u001b[49m\u001b[43m \u001b[49m\u001b[43mglyph\u001b[49m\u001b[43m,\u001b[49m\u001b[43m \u001b[49m\u001b[43magg\u001b[49m\u001b[43m)\u001b[49m\n",
      "File \u001b[0;32m~/Documents/Logistic_optimization/venv/lib/python3.12/site-packages/datashader/core.py:1329\u001b[0m, in \u001b[0;36mbypixel\u001b[0;34m(source, canvas, glyph, agg, antialias)\u001b[0m\n\u001b[1;32m   1327\u001b[0m schema \u001b[38;5;241m=\u001b[39m dshape\u001b[38;5;241m.\u001b[39mmeasure\n\u001b[1;32m   1328\u001b[0m glyph\u001b[38;5;241m.\u001b[39mvalidate(schema)\n\u001b[0;32m-> 1329\u001b[0m \u001b[43magg\u001b[49m\u001b[38;5;241;43m.\u001b[39;49m\u001b[43mvalidate\u001b[49m\u001b[43m(\u001b[49m\u001b[43mschema\u001b[49m\u001b[43m)\u001b[49m\n\u001b[1;32m   1330\u001b[0m canvas\u001b[38;5;241m.\u001b[39mvalidate()\n\u001b[1;32m   1332\u001b[0m \u001b[38;5;66;03m# All-NaN objects (e.g. chunks of arrays with no data) are valid in Datashader\u001b[39;00m\n",
      "File \u001b[0;32m~/Documents/Logistic_optimization/venv/lib/python3.12/site-packages/datashader/reductions.py:355\u001b[0m, in \u001b[0;36mReduction.validate\u001b[0;34m(self, in_dshape)\u001b[0m\n\u001b[1;32m    353\u001b[0m     \u001b[38;5;28;01mraise\u001b[39;00m \u001b[38;5;167;01mValueError\u001b[39;00m(\u001b[38;5;124m\"\u001b[39m\u001b[38;5;124mspecified column not found\u001b[39m\u001b[38;5;124m\"\u001b[39m)\n\u001b[1;32m    354\u001b[0m \u001b[38;5;28;01mif\u001b[39;00m \u001b[38;5;129;01mnot\u001b[39;00m isnumeric(in_dshape\u001b[38;5;241m.\u001b[39mmeasure[\u001b[38;5;28mself\u001b[39m\u001b[38;5;241m.\u001b[39mcolumn]):\n\u001b[0;32m--> 355\u001b[0m     \u001b[38;5;28;01mraise\u001b[39;00m \u001b[38;5;167;01mValueError\u001b[39;00m(\u001b[38;5;124m\"\u001b[39m\u001b[38;5;124minput must be numeric\u001b[39m\u001b[38;5;124m\"\u001b[39m)\n",
      "\u001b[0;31mValueError\u001b[0m: input must be numeric"
     ]
    }
   ],
   "source": [
    "img_distance = create_datashader_plot(df, 'lon', 'lat', 'Trip Origin', cmap=cc.kbc)"
   ]
  },
  {
   "cell_type": "code",
   "execution_count": null,
   "metadata": {},
   "outputs": [],
   "source": []
  }
 ],
 "metadata": {
  "kernelspec": {
   "display_name": "venv",
   "language": "python",
   "name": "python3"
  },
  "language_info": {
   "codemirror_mode": {
    "name": "ipython",
    "version": 3
   },
   "file_extension": ".py",
   "mimetype": "text/x-python",
   "name": "python",
   "nbconvert_exporter": "python",
   "pygments_lexer": "ipython3",
   "version": "3.12.3"
  }
 },
 "nbformat": 4,
 "nbformat_minor": 2
}
