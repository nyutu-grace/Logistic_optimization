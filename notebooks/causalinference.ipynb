{
 "cells": [
  {
   "cell_type": "code",
   "execution_count": 1,
   "metadata": {},
   "outputs": [],
   "source": [
    "import warnings\n",
    "import pandas as pd\n",
    "import numpy as numpy\n",
    "import sys, os\n",
    "\n",
    "from causalinference import CausalModel"
   ]
  },
  {
   "cell_type": "code",
   "execution_count": 2,
   "metadata": {},
   "outputs": [],
   "source": [
    "completed_df = pd.read_csv('../data/processeddata/completedrequests.csv')\n",
    "df = pd.read_csv('../data/processeddata/mergeddata.csv')"
   ]
  },
  {
   "cell_type": "code",
   "execution_count": 3,
   "metadata": {},
   "outputs": [
    {
     "name": "stdout",
     "output_type": "stream",
     "text": [
      "<class 'pandas.core.frame.DataFrame'>\n",
      "RangeIndex: 536020 entries, 0 to 536019\n",
      "Data columns (total 11 columns):\n",
      " #   Column            Non-Null Count   Dtype  \n",
      "---  ------            --------------   -----  \n",
      " 0   Trip ID           536020 non-null  int64  \n",
      " 1   Trip Origin       536020 non-null  object \n",
      " 2   Trip Destination  536020 non-null  object \n",
      " 3   Trip Start Time   534369 non-null  object \n",
      " 4   Trip End Time     536019 non-null  object \n",
      " 5   datetime          536020 non-null  object \n",
      " 6   hour              536020 non-null  int64  \n",
      " 7   is_weekend        536020 non-null  bool   \n",
      " 8   Trip distance_km  536020 non-null  float64\n",
      " 9   duration_hours    534368 non-null  float64\n",
      " 10  speed_kmh         534368 non-null  float64\n",
      "dtypes: bool(1), float64(3), int64(2), object(5)\n",
      "memory usage: 41.4+ MB\n"
     ]
    }
   ],
   "source": [
    "completed_df.info()"
   ]
  },
  {
   "cell_type": "code",
   "execution_count": 4,
   "metadata": {},
   "outputs": [
    {
     "name": "stdout",
     "output_type": "stream",
     "text": [
      "<class 'pandas.core.frame.DataFrame'>\n",
      "RangeIndex: 1557740 entries, 0 to 1557739\n",
      "Data columns (total 16 columns):\n",
      " #   Column                 Non-Null Count    Dtype  \n",
      "---  ------                 --------------    -----  \n",
      " 0   Trip ID                1557740 non-null  int64  \n",
      " 1   Trip Origin            1557740 non-null  object \n",
      " 2   Trip Destination       1557740 non-null  object \n",
      " 3   Trip Start Time        1555718 non-null  object \n",
      " 4   Trip End Time          1557740 non-null  object \n",
      " 5   datetime               1557740 non-null  object \n",
      " 6   hour                   1557740 non-null  int64  \n",
      " 7   is_weekend             1557740 non-null  bool   \n",
      " 8   driver_id              1557740 non-null  int64  \n",
      " 9   driver_action          1557740 non-null  object \n",
      " 10  Driver Location        1557740 non-null  object \n",
      " 11  driver_clientdistance  1557740 non-null  float64\n",
      " 12  day_of_week            1557740 non-null  object \n",
      " 13  lat                    1557740 non-null  float64\n",
      " 14  lon                    1557740 non-null  float64\n",
      " 15  date                   1557740 non-null  object \n",
      "dtypes: bool(1), float64(3), int64(3), object(9)\n",
      "memory usage: 179.8+ MB\n"
     ]
    }
   ],
   "source": [
    "df.info()"
   ]
  },
  {
   "cell_type": "code",
   "execution_count": 5,
   "metadata": {},
   "outputs": [],
   "source": [
    "from geopy.distance import geodesic"
   ]
  },
  {
   "cell_type": "code",
   "execution_count": 6,
   "metadata": {},
   "outputs": [],
   "source": [
    "df['Trip distance_km'] = df.apply(lambda row: geodesic((row['Trip Origin']), (row['Trip Destination'])).kilometers, axis=1)"
   ]
  },
  {
   "cell_type": "code",
   "execution_count": 7,
   "metadata": {},
   "outputs": [],
   "source": [
    "df['Trip End Time'] = pd.to_datetime(df['Trip End Time'])\n",
    "df['datetime'] = pd.to_datetime(df['datetime'])"
   ]
  },
  {
   "cell_type": "code",
   "execution_count": 8,
   "metadata": {},
   "outputs": [],
   "source": [
    "df['duration_hours'] = df.apply(lambda row: (row['Trip End Time'] - row['datetime']).total_seconds() / 3600, axis=1)\n",
    "\n",
    "df['speed_kmh'] = df['Trip distance_km'] / df['duration_hours']"
   ]
  },
  {
   "cell_type": "markdown",
   "metadata": {},
   "source": [
    "split data "
   ]
  },
  {
   "cell_type": "code",
   "execution_count": 9,
   "metadata": {},
   "outputs": [],
   "source": [
    "from sklearn.model_selection import train_test_split\n",
    "\n",
    "train_df, holdout_df = train_test_split(df, test_size=0.2, random_state=42)"
   ]
  },
  {
   "cell_type": "code",
   "execution_count": 10,
   "metadata": {},
   "outputs": [],
   "source": [
    "from causalgraphicalmodels import CausalGraphicalModel\n",
    "import matplotlib.pyplot as plt\n",
    "\n",
    "# Define nodes and edges based on domain knowledge\n",
    "nodes = [\"Trip_ID\", \"Trip_Origin\", \"Trip_Destination\", \"Trip_Start_Time\", \"Trip_End_Time\",\n",
    "         \"datetime\", \"hour\", \"is_weekend\", \"driver_id\", \"driver_action\", \"Driver_Location\",\n",
    "         \"driver_clientdistance\", \"day_of_week\", \"lat\", \"lon\", \"date\"]\n",
    "\n",
    "edges = [(\"Trip_Start_Time\", \"Trip_End_Time\"), (\"datetime\", \"hour\"), (\"datetime\", \"date\"),\n",
    "         (\"Trip_Origin\", \"Trip_Destination\"), (\"driver_id\", \"driver_action\"), \n",
    "         (\"driver_id\", \"Driver_Location\"), (\"Driver_Location\", \"driver_clientdistance\"),\n",
    "         (\"Trip_Start_Time\", \"driver_action\"), (\"day_of_week\", \"is_weekend\"), \n",
    "         (\"lat\", \"Driver_Location\"), (\"lon\", \"Driver_Location\"), (\"Trip_Origin\", \"driver_action\"),\n",
    "         (\"Trip_Destination\", \"driver_action\"), (\"driver_clientdistance\", \"driver_action\"), \n",
    "         (\"is_weekend\", \"driver_action\"), (\"hour\", \"driver_action\")]"
   ]
  },
  {
   "cell_type": "code",
   "execution_count": 11,
   "metadata": {},
   "outputs": [
    {
     "data": {
      "image/svg+xml": [
       "<?xml version=\"1.0\" encoding=\"UTF-8\" standalone=\"no\"?>\n",
       "<!DOCTYPE svg PUBLIC \"-//W3C//DTD SVG 1.1//EN\"\n",
       " \"http://www.w3.org/Graphics/SVG/1.1/DTD/svg11.dtd\">\n",
       "<!-- Generated by graphviz version 2.43.0 (0)\n",
       " -->\n",
       "<!-- Title: %3 Pages: 1 -->\n",
       "<svg width=\"992pt\" height=\"260pt\"\n",
       " viewBox=\"0.00 0.00 992.34 260.00\" xmlns=\"http://www.w3.org/2000/svg\" xmlns:xlink=\"http://www.w3.org/1999/xlink\">\n",
       "<g id=\"graph0\" class=\"graph\" transform=\"scale(1 1) rotate(0) translate(4 256)\">\n",
       "<title>%3</title>\n",
       "<polygon fill=\"white\" stroke=\"transparent\" points=\"-4,4 -4,-256 988.34,-256 988.34,4 -4,4\"/>\n",
       "<!-- date -->\n",
       "<g id=\"node1\" class=\"node\">\n",
       "<title>date</title>\n",
       "<ellipse fill=\"none\" stroke=\"black\" cx=\"31.2\" cy=\"-90\" rx=\"31.4\" ry=\"18\"/>\n",
       "<text text-anchor=\"middle\" x=\"31.2\" y=\"-86.3\" font-family=\"Times,serif\" font-size=\"14.00\">date</text>\n",
       "</g>\n",
       "<!-- Trip_Origin -->\n",
       "<g id=\"node2\" class=\"node\">\n",
       "<title>Trip_Origin</title>\n",
       "<ellipse fill=\"none\" stroke=\"black\" cx=\"212.2\" cy=\"-162\" rx=\"63.89\" ry=\"18\"/>\n",
       "<text text-anchor=\"middle\" x=\"212.2\" y=\"-158.3\" font-family=\"Times,serif\" font-size=\"14.00\">Trip_Origin</text>\n",
       "</g>\n",
       "<!-- driver_action -->\n",
       "<g id=\"node8\" class=\"node\">\n",
       "<title>driver_action</title>\n",
       "<ellipse fill=\"none\" stroke=\"black\" cx=\"458.2\" cy=\"-18\" rx=\"71.49\" ry=\"18\"/>\n",
       "<text text-anchor=\"middle\" x=\"458.2\" y=\"-14.3\" font-family=\"Times,serif\" font-size=\"14.00\">driver_action</text>\n",
       "</g>\n",
       "<!-- Trip_Origin&#45;&gt;driver_action -->\n",
       "<g id=\"edge2\" class=\"edge\">\n",
       "<title>Trip_Origin&#45;&gt;driver_action</title>\n",
       "<path fill=\"none\" stroke=\"black\" d=\"M200.75,-143.97C189.21,-124.47 175.32,-92.57 192.2,-72 215.54,-43.55 309.55,-30.08 379.22,-23.91\"/>\n",
       "<polygon fill=\"black\" stroke=\"black\" points=\"379.65,-27.38 389.32,-23.05 379.06,-20.41 379.65,-27.38\"/>\n",
       "</g>\n",
       "<!-- Trip_Destination -->\n",
       "<g id=\"node12\" class=\"node\">\n",
       "<title>Trip_Destination</title>\n",
       "<ellipse fill=\"none\" stroke=\"black\" cx=\"289.2\" cy=\"-90\" rx=\"87.99\" ry=\"18\"/>\n",
       "<text text-anchor=\"middle\" x=\"289.2\" y=\"-86.3\" font-family=\"Times,serif\" font-size=\"14.00\">Trip_Destination</text>\n",
       "</g>\n",
       "<!-- Trip_Origin&#45;&gt;Trip_Destination -->\n",
       "<g id=\"edge1\" class=\"edge\">\n",
       "<title>Trip_Origin&#45;&gt;Trip_Destination</title>\n",
       "<path fill=\"none\" stroke=\"black\" d=\"M230.45,-144.41C240.25,-135.5 252.51,-124.36 263.28,-114.56\"/>\n",
       "<polygon fill=\"black\" stroke=\"black\" points=\"265.77,-117.03 270.81,-107.71 261.06,-111.85 265.77,-117.03\"/>\n",
       "</g>\n",
       "<!-- Trip_Start_Time -->\n",
       "<g id=\"node3\" class=\"node\">\n",
       "<title>Trip_Start_Time</title>\n",
       "<ellipse fill=\"none\" stroke=\"black\" cx=\"899.2\" cy=\"-90\" rx=\"85.29\" ry=\"18\"/>\n",
       "<text text-anchor=\"middle\" x=\"899.2\" y=\"-86.3\" font-family=\"Times,serif\" font-size=\"14.00\">Trip_Start_Time</text>\n",
       "</g>\n",
       "<!-- Trip_Start_Time&#45;&gt;driver_action -->\n",
       "<g id=\"edge5\" class=\"edge\">\n",
       "<title>Trip_Start_Time&#45;&gt;driver_action</title>\n",
       "<path fill=\"none\" stroke=\"black\" d=\"M837.3,-77.56C826.6,-75.65 815.58,-73.73 805.2,-72 709.52,-56.04 598.67,-39.44 528.51,-29.16\"/>\n",
       "<polygon fill=\"black\" stroke=\"black\" points=\"528.86,-25.68 518.46,-27.69 527.84,-32.6 528.86,-25.68\"/>\n",
       "</g>\n",
       "<!-- Trip_End_Time -->\n",
       "<g id=\"node14\" class=\"node\">\n",
       "<title>Trip_End_Time</title>\n",
       "<ellipse fill=\"none\" stroke=\"black\" cx=\"899.2\" cy=\"-18\" rx=\"79.89\" ry=\"18\"/>\n",
       "<text text-anchor=\"middle\" x=\"899.2\" y=\"-14.3\" font-family=\"Times,serif\" font-size=\"14.00\">Trip_End_Time</text>\n",
       "</g>\n",
       "<!-- Trip_Start_Time&#45;&gt;Trip_End_Time -->\n",
       "<g id=\"edge4\" class=\"edge\">\n",
       "<title>Trip_Start_Time&#45;&gt;Trip_End_Time</title>\n",
       "<path fill=\"none\" stroke=\"black\" d=\"M899.2,-71.7C899.2,-63.98 899.2,-54.71 899.2,-46.11\"/>\n",
       "<polygon fill=\"black\" stroke=\"black\" points=\"902.7,-46.1 899.2,-36.1 895.7,-46.1 902.7,-46.1\"/>\n",
       "</g>\n",
       "<!-- hour -->\n",
       "<g id=\"node4\" class=\"node\">\n",
       "<title>hour</title>\n",
       "<ellipse fill=\"none\" stroke=\"black\" cx=\"113.2\" cy=\"-90\" rx=\"32.49\" ry=\"18\"/>\n",
       "<text text-anchor=\"middle\" x=\"113.2\" y=\"-86.3\" font-family=\"Times,serif\" font-size=\"14.00\">hour</text>\n",
       "</g>\n",
       "<!-- hour&#45;&gt;driver_action -->\n",
       "<g id=\"edge8\" class=\"edge\">\n",
       "<title>hour&#45;&gt;driver_action</title>\n",
       "<path fill=\"none\" stroke=\"black\" d=\"M138.72,-78.65C145.32,-76.23 152.46,-73.83 159.2,-72 235.35,-51.36 324.66,-36.74 385.71,-28.15\"/>\n",
       "<polygon fill=\"black\" stroke=\"black\" points=\"386.21,-31.61 395.64,-26.77 385.25,-24.68 386.21,-31.61\"/>\n",
       "</g>\n",
       "<!-- lat -->\n",
       "<g id=\"node5\" class=\"node\">\n",
       "<title>lat</title>\n",
       "<ellipse fill=\"none\" stroke=\"black\" cx=\"677.2\" cy=\"-234\" rx=\"27\" ry=\"18\"/>\n",
       "<text text-anchor=\"middle\" x=\"677.2\" y=\"-230.3\" font-family=\"Times,serif\" font-size=\"14.00\">lat</text>\n",
       "</g>\n",
       "<!-- Driver_Location -->\n",
       "<g id=\"node9\" class=\"node\">\n",
       "<title>Driver_Location</title>\n",
       "<ellipse fill=\"none\" stroke=\"black\" cx=\"682.2\" cy=\"-162\" rx=\"84.49\" ry=\"18\"/>\n",
       "<text text-anchor=\"middle\" x=\"682.2\" y=\"-158.3\" font-family=\"Times,serif\" font-size=\"14.00\">Driver_Location</text>\n",
       "</g>\n",
       "<!-- lat&#45;&gt;Driver_Location -->\n",
       "<g id=\"edge15\" class=\"edge\">\n",
       "<title>lat&#45;&gt;Driver_Location</title>\n",
       "<path fill=\"none\" stroke=\"black\" d=\"M678.43,-215.7C678.98,-207.98 679.65,-198.71 680.26,-190.11\"/>\n",
       "<polygon fill=\"black\" stroke=\"black\" points=\"683.75,-190.33 680.98,-180.1 676.77,-189.83 683.75,-190.33\"/>\n",
       "</g>\n",
       "<!-- is_weekend -->\n",
       "<g id=\"node6\" class=\"node\">\n",
       "<title>is_weekend</title>\n",
       "<ellipse fill=\"none\" stroke=\"black\" cx=\"458.2\" cy=\"-90\" rx=\"63.89\" ry=\"18\"/>\n",
       "<text text-anchor=\"middle\" x=\"458.2\" y=\"-86.3\" font-family=\"Times,serif\" font-size=\"14.00\">is_weekend</text>\n",
       "</g>\n",
       "<!-- is_weekend&#45;&gt;driver_action -->\n",
       "<g id=\"edge9\" class=\"edge\">\n",
       "<title>is_weekend&#45;&gt;driver_action</title>\n",
       "<path fill=\"none\" stroke=\"black\" d=\"M458.2,-71.7C458.2,-63.98 458.2,-54.71 458.2,-46.11\"/>\n",
       "<polygon fill=\"black\" stroke=\"black\" points=\"461.7,-46.1 458.2,-36.1 454.7,-46.1 461.7,-46.1\"/>\n",
       "</g>\n",
       "<!-- Trip_ID -->\n",
       "<g id=\"node7\" class=\"node\">\n",
       "<title>Trip_ID</title>\n",
       "<ellipse fill=\"none\" stroke=\"black\" cx=\"839.2\" cy=\"-234\" rx=\"44.69\" ry=\"18\"/>\n",
       "<text text-anchor=\"middle\" x=\"839.2\" y=\"-230.3\" font-family=\"Times,serif\" font-size=\"14.00\">Trip_ID</text>\n",
       "</g>\n",
       "<!-- driver_clientdistance -->\n",
       "<g id=\"node13\" class=\"node\">\n",
       "<title>driver_clientdistance</title>\n",
       "<ellipse fill=\"none\" stroke=\"black\" cx=\"687.2\" cy=\"-90\" rx=\"108.58\" ry=\"18\"/>\n",
       "<text text-anchor=\"middle\" x=\"687.2\" y=\"-86.3\" font-family=\"Times,serif\" font-size=\"14.00\">driver_clientdistance</text>\n",
       "</g>\n",
       "<!-- Driver_Location&#45;&gt;driver_clientdistance -->\n",
       "<g id=\"edge12\" class=\"edge\">\n",
       "<title>Driver_Location&#45;&gt;driver_clientdistance</title>\n",
       "<path fill=\"none\" stroke=\"black\" d=\"M683.43,-143.7C683.98,-135.98 684.65,-126.71 685.26,-118.11\"/>\n",
       "<polygon fill=\"black\" stroke=\"black\" points=\"688.75,-118.33 685.98,-108.1 681.77,-117.83 688.75,-118.33\"/>\n",
       "</g>\n",
       "<!-- lon -->\n",
       "<g id=\"node10\" class=\"node\">\n",
       "<title>lon</title>\n",
       "<ellipse fill=\"none\" stroke=\"black\" cx=\"749.2\" cy=\"-234\" rx=\"27\" ry=\"18\"/>\n",
       "<text text-anchor=\"middle\" x=\"749.2\" y=\"-230.3\" font-family=\"Times,serif\" font-size=\"14.00\">lon</text>\n",
       "</g>\n",
       "<!-- lon&#45;&gt;Driver_Location -->\n",
       "<g id=\"edge16\" class=\"edge\">\n",
       "<title>lon&#45;&gt;Driver_Location</title>\n",
       "<path fill=\"none\" stroke=\"black\" d=\"M735.31,-218.5C726.62,-209.41 715.2,-197.48 705.17,-187\"/>\n",
       "<polygon fill=\"black\" stroke=\"black\" points=\"707.62,-184.5 698.18,-179.7 702.57,-189.34 707.62,-184.5\"/>\n",
       "</g>\n",
       "<!-- driver_id -->\n",
       "<g id=\"node11\" class=\"node\">\n",
       "<title>driver_id</title>\n",
       "<ellipse fill=\"none\" stroke=\"black\" cx=\"570.2\" cy=\"-234\" rx=\"51.99\" ry=\"18\"/>\n",
       "<text text-anchor=\"middle\" x=\"570.2\" y=\"-230.3\" font-family=\"Times,serif\" font-size=\"14.00\">driver_id</text>\n",
       "</g>\n",
       "<!-- driver_id&#45;&gt;driver_action -->\n",
       "<g id=\"edge10\" class=\"edge\">\n",
       "<title>driver_id&#45;&gt;driver_action</title>\n",
       "<path fill=\"none\" stroke=\"black\" d=\"M569.84,-215.96C568.43,-184.8 561.77,-117.64 531.2,-72 522.56,-59.1 509.66,-48.25 497.1,-39.78\"/>\n",
       "<polygon fill=\"black\" stroke=\"black\" points=\"498.83,-36.74 488.52,-34.31 495.07,-42.64 498.83,-36.74\"/>\n",
       "</g>\n",
       "<!-- driver_id&#45;&gt;Driver_Location -->\n",
       "<g id=\"edge11\" class=\"edge\">\n",
       "<title>driver_id&#45;&gt;Driver_Location</title>\n",
       "<path fill=\"none\" stroke=\"black\" d=\"M594.22,-217.98C609.77,-208.27 630.26,-195.46 647.55,-184.65\"/>\n",
       "<polygon fill=\"black\" stroke=\"black\" points=\"649.63,-187.48 656.26,-179.21 645.92,-181.54 649.63,-187.48\"/>\n",
       "</g>\n",
       "<!-- Trip_Destination&#45;&gt;driver_action -->\n",
       "<g id=\"edge3\" class=\"edge\">\n",
       "<title>Trip_Destination&#45;&gt;driver_action</title>\n",
       "<path fill=\"none\" stroke=\"black\" d=\"M326.28,-73.64C351.93,-63.02 386.18,-48.83 413.35,-37.58\"/>\n",
       "<polygon fill=\"black\" stroke=\"black\" points=\"414.74,-40.79 422.64,-33.73 412.06,-34.32 414.74,-40.79\"/>\n",
       "</g>\n",
       "<!-- driver_clientdistance&#45;&gt;driver_action -->\n",
       "<g id=\"edge13\" class=\"edge\">\n",
       "<title>driver_clientdistance&#45;&gt;driver_action</title>\n",
       "<path fill=\"none\" stroke=\"black\" d=\"M637.79,-73.9C600.61,-62.53 549.73,-46.98 511.62,-35.33\"/>\n",
       "<polygon fill=\"black\" stroke=\"black\" points=\"512.31,-31.88 501.72,-32.3 510.26,-38.58 512.31,-31.88\"/>\n",
       "</g>\n",
       "<!-- datetime -->\n",
       "<g id=\"node15\" class=\"node\">\n",
       "<title>datetime</title>\n",
       "<ellipse fill=\"none\" stroke=\"black\" cx=\"74.2\" cy=\"-162\" rx=\"51.99\" ry=\"18\"/>\n",
       "<text text-anchor=\"middle\" x=\"74.2\" y=\"-158.3\" font-family=\"Times,serif\" font-size=\"14.00\">datetime</text>\n",
       "</g>\n",
       "<!-- datetime&#45;&gt;date -->\n",
       "<g id=\"edge7\" class=\"edge\">\n",
       "<title>datetime&#45;&gt;date</title>\n",
       "<path fill=\"none\" stroke=\"black\" d=\"M63.79,-144.05C58.59,-135.59 52.2,-125.19 46.46,-115.84\"/>\n",
       "<polygon fill=\"black\" stroke=\"black\" points=\"49.43,-114 41.21,-107.31 43.47,-117.66 49.43,-114\"/>\n",
       "</g>\n",
       "<!-- datetime&#45;&gt;hour -->\n",
       "<g id=\"edge6\" class=\"edge\">\n",
       "<title>datetime&#45;&gt;hour</title>\n",
       "<path fill=\"none\" stroke=\"black\" d=\"M83.64,-144.05C88.3,-135.68 94.03,-125.4 99.19,-116.13\"/>\n",
       "<polygon fill=\"black\" stroke=\"black\" points=\"102.3,-117.75 104.11,-107.31 96.19,-114.34 102.3,-117.75\"/>\n",
       "</g>\n",
       "<!-- day_of_week -->\n",
       "<g id=\"node16\" class=\"node\">\n",
       "<title>day_of_week</title>\n",
       "<ellipse fill=\"none\" stroke=\"black\" cx=\"453.2\" cy=\"-162\" rx=\"68.79\" ry=\"18\"/>\n",
       "<text text-anchor=\"middle\" x=\"453.2\" y=\"-158.3\" font-family=\"Times,serif\" font-size=\"14.00\">day_of_week</text>\n",
       "</g>\n",
       "<!-- day_of_week&#45;&gt;is_weekend -->\n",
       "<g id=\"edge14\" class=\"edge\">\n",
       "<title>day_of_week&#45;&gt;is_weekend</title>\n",
       "<path fill=\"none\" stroke=\"black\" d=\"M454.43,-143.7C454.98,-135.98 455.65,-126.71 456.26,-118.11\"/>\n",
       "<polygon fill=\"black\" stroke=\"black\" points=\"459.75,-118.33 456.98,-108.1 452.77,-117.83 459.75,-118.33\"/>\n",
       "</g>\n",
       "</g>\n",
       "</svg>\n"
      ],
      "text/plain": [
       "<graphviz.graphs.Digraph at 0x79366e0e4530>"
      ]
     },
     "execution_count": 11,
     "metadata": {},
     "output_type": "execute_result"
    }
   ],
   "source": [
    "# Create the causal model\n",
    "causal_model = CausalGraphicalModel(nodes=nodes, edges=edges)\n",
    "\n",
    "causal_model.draw()"
   ]
  },
  {
   "cell_type": "code",
   "execution_count": 12,
   "metadata": {},
   "outputs": [
    {
     "name": "stdout",
     "output_type": "stream",
     "text": [
      "Are 'driver_action' and 'hour' d-separated given 'datetime'? False\n"
     ]
    }
   ],
   "source": [
    "dsep2 = causal_model.is_d_separated(\"driver_action\", \"hour\", {\"datetime\"})\n",
    "print(f\"Are 'driver_action' and 'hour' d-separated given 'datetime'? {dsep2}\")"
   ]
  },
  {
   "cell_type": "code",
   "execution_count": 13,
   "metadata": {},
   "outputs": [
    {
     "name": "stdout",
     "output_type": "stream",
     "text": [
      "Markov blanket of 'driver_action': ['driver_id', 'Trip_Start_Time', 'Trip_Origin', 'Trip_Destination', 'driver_clientdistance', 'is_weekend', 'hour']\n"
     ]
    },
    {
     "name": "stderr",
     "output_type": "stream",
     "text": [
      "/home/grace-nyutu/Documents/Logistic_optimization/venv/lib/python3.12/site-packages/tqdm/auto.py:21: TqdmWarning: IProgress not found. Please update jupyter and ipywidgets. See https://ipywidgets.readthedocs.io/en/stable/user_install.html\n",
      "  from .autonotebook import tqdm as notebook_tqdm\n"
     ]
    }
   ],
   "source": [
    "from pgmpy.models import MarkovNetwork\n",
    "\n",
    "mm = MarkovNetwork()\n",
    "\n",
    "mm.add_nodes_from(nodes)\n",
    "mm.add_edges_from(edges)\n",
    "\n",
    "markov_blanket = mm.markov_blanket(\"driver_action\")\n",
    "\n",
    "markov_blanket_list = list(markov_blanket)\n",
    "print(f\"Markov blanket of 'driver_action': {markov_blanket_list}\")"
   ]
  },
  {
   "cell_type": "markdown",
   "metadata": {},
   "source": [
    "# Create Causal Graphs and Compare with Ground Truth"
   ]
  },
  {
   "cell_type": "code",
   "execution_count": 14,
   "metadata": {},
   "outputs": [],
   "source": [
    "fraction = 0.1\n",
    "train_sample = train_df.sample(frac=fraction, random_state=42)"
   ]
  },
  {
   "cell_type": "code",
   "execution_count": 15,
   "metadata": {},
   "outputs": [
    {
     "data": {
      "text/plain": [
       "Index(['Trip ID', 'Trip Origin', 'Trip Destination', 'Trip Start Time',\n",
       "       'Trip End Time', 'datetime', 'hour', 'is_weekend', 'driver_id',\n",
       "       'driver_action', 'Driver Location', 'driver_clientdistance',\n",
       "       'day_of_week', 'lat', 'lon', 'date', 'Trip distance_km',\n",
       "       'duration_hours', 'speed_kmh'],\n",
       "      dtype='object')"
      ]
     },
     "execution_count": 15,
     "metadata": {},
     "output_type": "execute_result"
    }
   ],
   "source": [
    "train_df.columns"
   ]
  },
  {
   "cell_type": "markdown",
   "metadata": {},
   "source": [
    "# Interventions analysis with 'dowhy'"
   ]
  },
  {
   "cell_type": "code",
   "execution_count": 16,
   "metadata": {},
   "outputs": [],
   "source": [
    "import numpy as np\n",
    "from dowhy import CausalModel\n",
    "from sklearn.metrics import jaccard_score\n",
    "import networkx as nx"
   ]
  },
  {
   "cell_type": "code",
   "execution_count": 17,
   "metadata": {},
   "outputs": [],
   "source": [
    "def create_unfulfilled_requests(row):\n",
    "    if row['driver_action'] == 'rejected':\n",
    "        return np.random.randint(1, 4)  # Randomly generate unfulfilled requests\n",
    "    else:\n",
    "        return 0  # Default value\n",
    "\n",
    "# Apply function to create unfulfilled_requests column\n",
    "train_df['unfulfilled_requests'] = train_df.apply(create_unfulfilled_requests, axis=1)"
   ]
  },
  {
   "cell_type": "code",
   "execution_count": 18,
   "metadata": {},
   "outputs": [],
   "source": [
    "holdout_df['unfulfilled_requests'] = holdout_df.apply(create_unfulfilled_requests, axis=1)"
   ]
  },
  {
   "cell_type": "code",
   "execution_count": 19,
   "metadata": {},
   "outputs": [
    {
     "name": "stderr",
     "output_type": "stream",
     "text": [
      "WARNING:dowhy.causal_model:Causal Graph not provided. DoWhy will construct a graph based on data inputs.\n",
      "INFO:dowhy.causal_model:Model to find the causal effect of treatment ['driver_clientdistance'] on outcome ['unfulfilled_requests']\n",
      "INFO:dowhy.causal_identifier:Causal effect can be identified.\n",
      "INFO:dowhy.causal_identifier:Instrumental variables for treatment and outcome:[]\n",
      "INFO:dowhy.causal_identifier:Frontdoor variables for treatment and outcome:[]\n",
      "ERROR:dowhy.causal_estimator:Propensity score methods are applicable only for binary treatments\n"
     ]
    },
    {
     "name": "stdout",
     "output_type": "stream",
     "text": [
      "propensity_score_matching\n"
     ]
    },
    {
     "ename": "Exception",
     "evalue": "Propensity score methods are applicable only for binary treatments",
     "output_type": "error",
     "traceback": [
      "\u001b[0;31m---------------------------------------------------------------------------\u001b[0m",
      "\u001b[0;31mException\u001b[0m                                 Traceback (most recent call last)",
      "Cell \u001b[0;32mIn[19], line 36\u001b[0m\n\u001b[1;32m     27\u001b[0m     model \u001b[38;5;241m=\u001b[39m CausalModel(\n\u001b[1;32m     28\u001b[0m         data\u001b[38;5;241m=\u001b[39mtrain_df,\n\u001b[1;32m     29\u001b[0m         treatment\u001b[38;5;241m=\u001b[39m[treatment],\n\u001b[1;32m     30\u001b[0m         outcome\u001b[38;5;241m=\u001b[39m\u001b[38;5;124m'\u001b[39m\u001b[38;5;124munfulfilled_requests\u001b[39m\u001b[38;5;124m'\u001b[39m,\n\u001b[1;32m     31\u001b[0m         common_causes\u001b[38;5;241m=\u001b[39m[\u001b[38;5;124m'\u001b[39m\u001b[38;5;124mhour\u001b[39m\u001b[38;5;124m'\u001b[39m, \u001b[38;5;124m'\u001b[39m\u001b[38;5;124mday_of_week\u001b[39m\u001b[38;5;124m'\u001b[39m, \u001b[38;5;124m'\u001b[39m\u001b[38;5;124mis_weekend\u001b[39m\u001b[38;5;124m'\u001b[39m, \u001b[38;5;124m'\u001b[39m\u001b[38;5;124mdriver_id\u001b[39m\u001b[38;5;124m'\u001b[39m, \u001b[38;5;124m'\u001b[39m\u001b[38;5;124mduration_hours\u001b[39m\u001b[38;5;124m'\u001b[39m]\n\u001b[1;32m     32\u001b[0m     )\n\u001b[1;32m     34\u001b[0m     identified_estimand \u001b[38;5;241m=\u001b[39m model\u001b[38;5;241m.\u001b[39midentify_effect(proceed_when_unidentifiable\u001b[38;5;241m=\u001b[39m\u001b[38;5;28;01mTrue\u001b[39;00m)\n\u001b[0;32m---> 36\u001b[0m     causal_estimate \u001b[38;5;241m=\u001b[39m \u001b[43mmodel\u001b[49m\u001b[38;5;241;43m.\u001b[39;49m\u001b[43mestimate_effect\u001b[49m\u001b[43m(\u001b[49m\n\u001b[1;32m     37\u001b[0m \u001b[43m        \u001b[49m\u001b[43midentified_estimand\u001b[49m\u001b[43m,\u001b[49m\n\u001b[1;32m     38\u001b[0m \u001b[43m        \u001b[49m\u001b[43mmethod_name\u001b[49m\u001b[38;5;241;43m=\u001b[39;49m\u001b[38;5;124;43m\"\u001b[39;49m\u001b[38;5;124;43mbackdoor.propensity_score_matching\u001b[39;49m\u001b[38;5;124;43m\"\u001b[39;49m\n\u001b[1;32m     39\u001b[0m \u001b[43m    \u001b[49m\u001b[43m)\u001b[49m\n\u001b[1;32m     41\u001b[0m     results[treatment] \u001b[38;5;241m=\u001b[39m causal_estimate\u001b[38;5;241m.\u001b[39mvalue\n\u001b[1;32m     43\u001b[0m \u001b[38;5;66;03m# Print results for each intervention\u001b[39;00m\n",
      "File \u001b[0;32m~/Documents/Logistic_optimization/venv/lib/python3.12/site-packages/dowhy/causal_model.py:297\u001b[0m, in \u001b[0;36mCausalModel.estimate_effect\u001b[0;34m(self, identified_estimand, method_name, control_value, treatment_value, test_significance, evaluate_effect_strength, confidence_intervals, target_units, effect_modifiers, fit_estimator, method_params)\u001b[0m\n\u001b[1;32m    295\u001b[0m     \u001b[38;5;28;01mif\u001b[39;00m method_params \u001b[38;5;129;01mis\u001b[39;00m \u001b[38;5;28;01mNone\u001b[39;00m:\n\u001b[1;32m    296\u001b[0m         method_params \u001b[38;5;241m=\u001b[39m {}\n\u001b[0;32m--> 297\u001b[0m     \u001b[38;5;28mself\u001b[39m\u001b[38;5;241m.\u001b[39mcausal_estimator \u001b[38;5;241m=\u001b[39m \u001b[43mcausal_estimator_class\u001b[49m\u001b[43m(\u001b[49m\n\u001b[1;32m    298\u001b[0m \u001b[43m        \u001b[49m\u001b[38;5;28;43mself\u001b[39;49m\u001b[38;5;241;43m.\u001b[39;49m\u001b[43m_data\u001b[49m\u001b[43m,\u001b[49m\n\u001b[1;32m    299\u001b[0m \u001b[43m        \u001b[49m\u001b[43midentified_estimand\u001b[49m\u001b[43m,\u001b[49m\n\u001b[1;32m    300\u001b[0m \u001b[43m        \u001b[49m\u001b[38;5;28;43mself\u001b[39;49m\u001b[38;5;241;43m.\u001b[39;49m\u001b[43m_treatment\u001b[49m\u001b[43m,\u001b[49m\u001b[43m \u001b[49m\u001b[38;5;28;43mself\u001b[39;49m\u001b[38;5;241;43m.\u001b[39;49m\u001b[43m_outcome\u001b[49m\u001b[43m,\u001b[49m\u001b[43m \u001b[49m\u001b[38;5;66;43;03m#names of treatment and outcome\u001b[39;49;00m\n\u001b[1;32m    301\u001b[0m \u001b[43m        \u001b[49m\u001b[43mcontrol_value\u001b[49m\u001b[43m \u001b[49m\u001b[38;5;241;43m=\u001b[39;49m\u001b[43m \u001b[49m\u001b[43mcontrol_value\u001b[49m\u001b[43m,\u001b[49m\n\u001b[1;32m    302\u001b[0m \u001b[43m        \u001b[49m\u001b[43mtreatment_value\u001b[49m\u001b[43m \u001b[49m\u001b[38;5;241;43m=\u001b[39;49m\u001b[43m \u001b[49m\u001b[43mtreatment_value\u001b[49m\u001b[43m,\u001b[49m\n\u001b[1;32m    303\u001b[0m \u001b[43m        \u001b[49m\u001b[43mtest_significance\u001b[49m\u001b[38;5;241;43m=\u001b[39;49m\u001b[43mtest_significance\u001b[49m\u001b[43m,\u001b[49m\n\u001b[1;32m    304\u001b[0m \u001b[43m        \u001b[49m\u001b[43mevaluate_effect_strength\u001b[49m\u001b[38;5;241;43m=\u001b[39;49m\u001b[43mevaluate_effect_strength\u001b[49m\u001b[43m,\u001b[49m\n\u001b[1;32m    305\u001b[0m \u001b[43m        \u001b[49m\u001b[43mconfidence_intervals\u001b[49m\u001b[43m \u001b[49m\u001b[38;5;241;43m=\u001b[39;49m\u001b[43m \u001b[49m\u001b[43mconfidence_intervals\u001b[49m\u001b[43m,\u001b[49m\n\u001b[1;32m    306\u001b[0m \u001b[43m        \u001b[49m\u001b[43mtarget_units\u001b[49m\u001b[43m \u001b[49m\u001b[38;5;241;43m=\u001b[39;49m\u001b[43m \u001b[49m\u001b[43mtarget_units\u001b[49m\u001b[43m,\u001b[49m\n\u001b[1;32m    307\u001b[0m \u001b[43m        \u001b[49m\u001b[43meffect_modifiers\u001b[49m\u001b[43m \u001b[49m\u001b[38;5;241;43m=\u001b[39;49m\u001b[43m \u001b[49m\u001b[43meffect_modifiers\u001b[49m\u001b[43m,\u001b[49m\n\u001b[1;32m    308\u001b[0m \u001b[43m        \u001b[49m\u001b[38;5;241;43m*\u001b[39;49m\u001b[38;5;241;43m*\u001b[39;49m\u001b[43mmethod_params\u001b[49m\u001b[43m,\u001b[49m\n\u001b[1;32m    309\u001b[0m \u001b[43m        \u001b[49m\u001b[38;5;241;43m*\u001b[39;49m\u001b[38;5;241;43m*\u001b[39;49m\u001b[43mextra_args\u001b[49m\u001b[43m)\u001b[49m\n\u001b[1;32m    310\u001b[0m \u001b[38;5;28;01melse\u001b[39;00m:\n\u001b[1;32m    311\u001b[0m     \u001b[38;5;66;03m# Estimator had been computed in a previous call\u001b[39;00m\n\u001b[1;32m    312\u001b[0m     \u001b[38;5;28;01massert\u001b[39;00m \u001b[38;5;28mself\u001b[39m\u001b[38;5;241m.\u001b[39mcausal_estimator \u001b[38;5;129;01mis\u001b[39;00m \u001b[38;5;129;01mnot\u001b[39;00m \u001b[38;5;28;01mNone\u001b[39;00m\n",
      "File \u001b[0;32m~/Documents/Logistic_optimization/venv/lib/python3.12/site-packages/dowhy/causal_estimators/propensity_score_matching_estimator.py:38\u001b[0m, in \u001b[0;36mPropensityScoreMatchingEstimator.__init__\u001b[0;34m(self, propensity_score_model, recalculate_propensity_score, propensity_score_column, *args, **kwargs)\u001b[0m\n\u001b[1;32m     20\u001b[0m \u001b[38;5;28;01mdef\u001b[39;00m \u001b[38;5;21m__init__\u001b[39m(\n\u001b[1;32m     21\u001b[0m     \u001b[38;5;28mself\u001b[39m,\n\u001b[1;32m     22\u001b[0m     \u001b[38;5;241m*\u001b[39margs,\n\u001b[0;32m   (...)\u001b[0m\n\u001b[1;32m     25\u001b[0m     propensity_score_column\u001b[38;5;241m=\u001b[39m\u001b[38;5;124m\"\u001b[39m\u001b[38;5;124mpropensity_score\u001b[39m\u001b[38;5;124m\"\u001b[39m,\n\u001b[1;32m     26\u001b[0m     \u001b[38;5;241m*\u001b[39m\u001b[38;5;241m*\u001b[39mkwargs):\n\u001b[1;32m     27\u001b[0m \u001b[38;5;250m    \u001b[39m\u001b[38;5;124;03m\"\"\"\u001b[39;00m\n\u001b[1;32m     28\u001b[0m \u001b[38;5;124;03m    :param propensity_score_model: Model used to compute propensity score.\u001b[39;00m\n\u001b[1;32m     29\u001b[0m \u001b[38;5;124;03m        Can be any classification model that supports fit() and\u001b[39;00m\n\u001b[0;32m   (...)\u001b[0m\n\u001b[1;32m     36\u001b[0m \n\u001b[1;32m     37\u001b[0m \u001b[38;5;124;03m    \"\"\"\u001b[39;00m\n\u001b[0;32m---> 38\u001b[0m     \u001b[38;5;28;43msuper\u001b[39;49m\u001b[43m(\u001b[49m\u001b[43m)\u001b[49m\u001b[38;5;241;43m.\u001b[39;49m\u001b[38;5;21;43m__init__\u001b[39;49m\u001b[43m(\u001b[49m\n\u001b[1;32m     39\u001b[0m \u001b[43m        \u001b[49m\u001b[38;5;241;43m*\u001b[39;49m\u001b[43margs\u001b[49m\u001b[43m,\u001b[49m\n\u001b[1;32m     40\u001b[0m \u001b[43m        \u001b[49m\u001b[43mpropensity_score_model\u001b[49m\u001b[38;5;241;43m=\u001b[39;49m\u001b[43mpropensity_score_model\u001b[49m\u001b[43m,\u001b[49m\n\u001b[1;32m     41\u001b[0m \u001b[43m        \u001b[49m\u001b[43mrecalculate_propensity_score\u001b[49m\u001b[38;5;241;43m=\u001b[39;49m\u001b[43mrecalculate_propensity_score\u001b[49m\u001b[43m,\u001b[49m\n\u001b[1;32m     42\u001b[0m \u001b[43m        \u001b[49m\u001b[43mpropensity_score_column\u001b[49m\u001b[38;5;241;43m=\u001b[39;49m\u001b[43mpropensity_score_column\u001b[49m\u001b[43m,\u001b[49m\n\u001b[1;32m     43\u001b[0m \u001b[43m        \u001b[49m\u001b[38;5;241;43m*\u001b[39;49m\u001b[38;5;241;43m*\u001b[39;49m\u001b[43mkwargs\u001b[49m\u001b[43m)\u001b[49m\n\u001b[1;32m     45\u001b[0m     \u001b[38;5;28mself\u001b[39m\u001b[38;5;241m.\u001b[39mlogger\u001b[38;5;241m.\u001b[39minfo(\u001b[38;5;124m\"\u001b[39m\u001b[38;5;124mINFO: Using Propensity Score Matching Estimator\u001b[39m\u001b[38;5;124m\"\u001b[39m)\n\u001b[1;32m     46\u001b[0m     \u001b[38;5;28mself\u001b[39m\u001b[38;5;241m.\u001b[39msymbolic_estimator \u001b[38;5;241m=\u001b[39m \u001b[38;5;28mself\u001b[39m\u001b[38;5;241m.\u001b[39mconstruct_symbolic_estimator(\u001b[38;5;28mself\u001b[39m\u001b[38;5;241m.\u001b[39m_target_estimand)\n",
      "File \u001b[0;32m~/Documents/Logistic_optimization/venv/lib/python3.12/site-packages/dowhy/causal_estimators/propensity_score_estimator.py:54\u001b[0m, in \u001b[0;36mPropensityScoreEstimator.__init__\u001b[0;34m(self, propensity_score_model, recalculate_propensity_score, propensity_score_column, *args, **kwargs)\u001b[0m\n\u001b[1;32m     52\u001b[0m     error_msg \u001b[38;5;241m=\u001b[39m \u001b[38;5;124m\"\u001b[39m\u001b[38;5;124mPropensity score methods are applicable only for binary treatments\u001b[39m\u001b[38;5;124m\"\u001b[39m\n\u001b[1;32m     53\u001b[0m     \u001b[38;5;28mself\u001b[39m\u001b[38;5;241m.\u001b[39mlogger\u001b[38;5;241m.\u001b[39merror(error_msg)\n\u001b[0;32m---> 54\u001b[0m     \u001b[38;5;28;01mraise\u001b[39;00m \u001b[38;5;167;01mException\u001b[39;00m(error_msg)\n\u001b[1;32m     56\u001b[0m \u001b[38;5;28mself\u001b[39m\u001b[38;5;241m.\u001b[39mlogger\u001b[38;5;241m.\u001b[39mdebug(\u001b[38;5;124m\"\u001b[39m\u001b[38;5;124mBack-door variables used:\u001b[39m\u001b[38;5;124m\"\u001b[39m \u001b[38;5;241m+\u001b[39m\n\u001b[1;32m     57\u001b[0m                 \u001b[38;5;124m\"\u001b[39m\u001b[38;5;124m,\u001b[39m\u001b[38;5;124m\"\u001b[39m\u001b[38;5;241m.\u001b[39mjoin(\u001b[38;5;28mself\u001b[39m\u001b[38;5;241m.\u001b[39m_target_estimand\u001b[38;5;241m.\u001b[39mget_backdoor_variables()))\n\u001b[1;32m     59\u001b[0m \u001b[38;5;28mself\u001b[39m\u001b[38;5;241m.\u001b[39m_observed_common_causes_names \u001b[38;5;241m=\u001b[39m \u001b[38;5;28mself\u001b[39m\u001b[38;5;241m.\u001b[39m_target_estimand\u001b[38;5;241m.\u001b[39mget_backdoor_variables()\n",
      "\u001b[0;31mException\u001b[0m: Propensity score methods are applicable only for binary treatments"
     ]
    }
   ],
   "source": [
    "from dowhy import CausalModel\n",
    "\n",
    "# Define the interventions as new columns in your DataFrame\n",
    "interventions = {\n",
    "    \"driver_clientdistance\": 0.8,  # Knowing location of next 20% of orders within 5km accuracy\n",
    "    \"speed_kmh\": 0.5,  # Moving 1km every 30 mins\n",
    "    \"duration_hour\": 8,\n",
    "    \"num_drivers\": 1.1  # Increase number of drivers by 10%\n",
    "}\n",
    "\n",
    "# # Ensure your DataFrame has these columns and values populated for the analysis\n",
    "# train_df['driver_clientdistance'] = 0  # Default value\n",
    "# train_df['speed_kmh'] = 0  # Default value\n",
    "# train_df['duration_hours'] = 0  # Default value\n",
    "# train_df['num_drivers'] = 1  # Default value\n",
    "\n",
    "# # Update DataFrame with intervention values\n",
    "# train_df.loc[:, 'driver_clientdistance'] = interventions['driver_clientdistance']\n",
    "# train_df.loc[:, 'speed_kmh'] = interventions['speed_kmh']\n",
    "# train_df.loc[:, 'duration_hours'] = interventions['duration_hours']\n",
    "# train_df.loc[:, 'num_drivers'] = interventions['num_drivers']\n",
    "\n",
    "# Perform causal analysis for each intervention\n",
    "results = {}\n",
    "\n",
    "for treatment in interventions.keys():\n",
    "    model = CausalModel(\n",
    "        data=train_df,\n",
    "        treatment=[treatment],\n",
    "        outcome='unfulfilled_requests',\n",
    "        common_causes=['hour', 'day_of_week', 'is_weekend', 'driver_id', 'duration_hours']\n",
    "    )\n",
    "    \n",
    "    identified_estimand = model.identify_effect(proceed_when_unidentifiable=True)\n",
    "    \n",
    "    causal_estimate = model.estimate_effect(\n",
    "        identified_estimand,\n",
    "        method_name=\"backdoor.propensity_score_matching\"\n",
    "    )\n",
    "    \n",
    "    results[treatment] = causal_estimate.value\n",
    "\n",
    "# Print results for each intervention\n",
    "for treatment, estimate in results.items():\n",
    "    print(f\"Intervention on {treatment}: {estimate}\")"
   ]
  },
  {
   "cell_type": "markdown",
   "metadata": {},
   "source": [
    "Train ML Models"
   ]
  },
  {
   "cell_type": "code",
   "execution_count": null,
   "metadata": {},
   "outputs": [
    {
     "data": {
      "text/plain": [
       "Index(['Trip ID', 'Trip Origin', 'Trip Destination', 'Trip Start Time',\n",
       "       'Trip End Time', 'datetime', 'hour', 'is_weekend', 'driver_id',\n",
       "       'driver_action', 'Driver Location', 'driver_clientdistance',\n",
       "       'day_of_week', 'lat', 'lon', 'date', 'Trip distance_km',\n",
       "       'duration_hours', 'speed_kmh', 'unfulfilled_requests'],\n",
       "      dtype='object')"
      ]
     },
     "execution_count": 20,
     "metadata": {},
     "output_type": "execute_result"
    }
   ],
   "source": [
    "holdout_df.columns"
   ]
  },
  {
   "cell_type": "code",
   "execution_count": null,
   "metadata": {},
   "outputs": [
    {
     "ename": "KeyError",
     "evalue": "\"['Trip Origin', 'Trip Start Time', 'Trip End Time', 'Trip Destination', 'Driver Location'] not found in axis\"",
     "output_type": "error",
     "traceback": [
      "\u001b[0;31m---------------------------------------------------------------------------\u001b[0m",
      "\u001b[0;31mKeyError\u001b[0m                                  Traceback (most recent call last)",
      "Cell \u001b[0;32mIn[24], line 1\u001b[0m\n\u001b[0;32m----> 1\u001b[0m train_df \u001b[38;5;241m=\u001b[39m \u001b[43mtrain_df\u001b[49m\u001b[38;5;241;43m.\u001b[39;49m\u001b[43mdrop\u001b[49m\u001b[43m(\u001b[49m\u001b[43m[\u001b[49m\u001b[38;5;124;43m'\u001b[39;49m\u001b[38;5;124;43mTrip Origin\u001b[39;49m\u001b[38;5;124;43m'\u001b[39;49m\u001b[43m,\u001b[49m\u001b[43m \u001b[49m\u001b[38;5;124;43m'\u001b[39;49m\u001b[38;5;124;43mTrip Start Time\u001b[39;49m\u001b[38;5;124;43m'\u001b[39;49m\u001b[43m,\u001b[49m\u001b[43m \u001b[49m\u001b[38;5;124;43m'\u001b[39;49m\u001b[38;5;124;43mTrip End Time\u001b[39;49m\u001b[38;5;124;43m'\u001b[39;49m\u001b[43m,\u001b[49m\u001b[43m \u001b[49m\u001b[38;5;124;43m'\u001b[39;49m\u001b[38;5;124;43mTrip Destination\u001b[39;49m\u001b[38;5;124;43m'\u001b[39;49m\u001b[43m,\u001b[49m\u001b[43m \u001b[49m\u001b[38;5;124;43m'\u001b[39;49m\u001b[38;5;124;43mDriver Location\u001b[39;49m\u001b[38;5;124;43m'\u001b[39;49m\u001b[43m,\u001b[49m\u001b[43m \u001b[49m\u001b[38;5;124;43m'\u001b[39;49m\u001b[38;5;124;43mdatetime\u001b[39;49m\u001b[38;5;124;43m'\u001b[39;49m\u001b[43m,\u001b[49m\u001b[43m \u001b[49m\u001b[38;5;124;43m'\u001b[39;49m\u001b[38;5;124;43mdate\u001b[39;49m\u001b[38;5;124;43m'\u001b[39;49m\u001b[43m]\u001b[49m\u001b[43m,\u001b[49m\u001b[43m \u001b[49m\u001b[43maxis\u001b[49m\u001b[38;5;241;43m=\u001b[39;49m\u001b[38;5;241;43m1\u001b[39;49m\u001b[43m)\u001b[49m\n",
      "File \u001b[0;32m~/Documents/Logistic_optimization/venv/lib/python3.12/site-packages/pandas/core/frame.py:5581\u001b[0m, in \u001b[0;36mDataFrame.drop\u001b[0;34m(self, labels, axis, index, columns, level, inplace, errors)\u001b[0m\n\u001b[1;32m   5433\u001b[0m \u001b[38;5;28;01mdef\u001b[39;00m \u001b[38;5;21mdrop\u001b[39m(\n\u001b[1;32m   5434\u001b[0m     \u001b[38;5;28mself\u001b[39m,\n\u001b[1;32m   5435\u001b[0m     labels: IndexLabel \u001b[38;5;241m|\u001b[39m \u001b[38;5;28;01mNone\u001b[39;00m \u001b[38;5;241m=\u001b[39m \u001b[38;5;28;01mNone\u001b[39;00m,\n\u001b[0;32m   (...)\u001b[0m\n\u001b[1;32m   5442\u001b[0m     errors: IgnoreRaise \u001b[38;5;241m=\u001b[39m \u001b[38;5;124m\"\u001b[39m\u001b[38;5;124mraise\u001b[39m\u001b[38;5;124m\"\u001b[39m,\n\u001b[1;32m   5443\u001b[0m ) \u001b[38;5;241m-\u001b[39m\u001b[38;5;241m>\u001b[39m DataFrame \u001b[38;5;241m|\u001b[39m \u001b[38;5;28;01mNone\u001b[39;00m:\n\u001b[1;32m   5444\u001b[0m \u001b[38;5;250m    \u001b[39m\u001b[38;5;124;03m\"\"\"\u001b[39;00m\n\u001b[1;32m   5445\u001b[0m \u001b[38;5;124;03m    Drop specified labels from rows or columns.\u001b[39;00m\n\u001b[1;32m   5446\u001b[0m \n\u001b[0;32m   (...)\u001b[0m\n\u001b[1;32m   5579\u001b[0m \u001b[38;5;124;03m            weight  1.0     0.8\u001b[39;00m\n\u001b[1;32m   5580\u001b[0m \u001b[38;5;124;03m    \"\"\"\u001b[39;00m\n\u001b[0;32m-> 5581\u001b[0m     \u001b[38;5;28;01mreturn\u001b[39;00m \u001b[38;5;28;43msuper\u001b[39;49m\u001b[43m(\u001b[49m\u001b[43m)\u001b[49m\u001b[38;5;241;43m.\u001b[39;49m\u001b[43mdrop\u001b[49m\u001b[43m(\u001b[49m\n\u001b[1;32m   5582\u001b[0m \u001b[43m        \u001b[49m\u001b[43mlabels\u001b[49m\u001b[38;5;241;43m=\u001b[39;49m\u001b[43mlabels\u001b[49m\u001b[43m,\u001b[49m\n\u001b[1;32m   5583\u001b[0m \u001b[43m        \u001b[49m\u001b[43maxis\u001b[49m\u001b[38;5;241;43m=\u001b[39;49m\u001b[43maxis\u001b[49m\u001b[43m,\u001b[49m\n\u001b[1;32m   5584\u001b[0m \u001b[43m        \u001b[49m\u001b[43mindex\u001b[49m\u001b[38;5;241;43m=\u001b[39;49m\u001b[43mindex\u001b[49m\u001b[43m,\u001b[49m\n\u001b[1;32m   5585\u001b[0m \u001b[43m        \u001b[49m\u001b[43mcolumns\u001b[49m\u001b[38;5;241;43m=\u001b[39;49m\u001b[43mcolumns\u001b[49m\u001b[43m,\u001b[49m\n\u001b[1;32m   5586\u001b[0m \u001b[43m        \u001b[49m\u001b[43mlevel\u001b[49m\u001b[38;5;241;43m=\u001b[39;49m\u001b[43mlevel\u001b[49m\u001b[43m,\u001b[49m\n\u001b[1;32m   5587\u001b[0m \u001b[43m        \u001b[49m\u001b[43minplace\u001b[49m\u001b[38;5;241;43m=\u001b[39;49m\u001b[43minplace\u001b[49m\u001b[43m,\u001b[49m\n\u001b[1;32m   5588\u001b[0m \u001b[43m        \u001b[49m\u001b[43merrors\u001b[49m\u001b[38;5;241;43m=\u001b[39;49m\u001b[43merrors\u001b[49m\u001b[43m,\u001b[49m\n\u001b[1;32m   5589\u001b[0m \u001b[43m    \u001b[49m\u001b[43m)\u001b[49m\n",
      "File \u001b[0;32m~/Documents/Logistic_optimization/venv/lib/python3.12/site-packages/pandas/core/generic.py:4788\u001b[0m, in \u001b[0;36mNDFrame.drop\u001b[0;34m(self, labels, axis, index, columns, level, inplace, errors)\u001b[0m\n\u001b[1;32m   4786\u001b[0m \u001b[38;5;28;01mfor\u001b[39;00m axis, labels \u001b[38;5;129;01min\u001b[39;00m axes\u001b[38;5;241m.\u001b[39mitems():\n\u001b[1;32m   4787\u001b[0m     \u001b[38;5;28;01mif\u001b[39;00m labels \u001b[38;5;129;01mis\u001b[39;00m \u001b[38;5;129;01mnot\u001b[39;00m \u001b[38;5;28;01mNone\u001b[39;00m:\n\u001b[0;32m-> 4788\u001b[0m         obj \u001b[38;5;241m=\u001b[39m \u001b[43mobj\u001b[49m\u001b[38;5;241;43m.\u001b[39;49m\u001b[43m_drop_axis\u001b[49m\u001b[43m(\u001b[49m\u001b[43mlabels\u001b[49m\u001b[43m,\u001b[49m\u001b[43m \u001b[49m\u001b[43maxis\u001b[49m\u001b[43m,\u001b[49m\u001b[43m \u001b[49m\u001b[43mlevel\u001b[49m\u001b[38;5;241;43m=\u001b[39;49m\u001b[43mlevel\u001b[49m\u001b[43m,\u001b[49m\u001b[43m \u001b[49m\u001b[43merrors\u001b[49m\u001b[38;5;241;43m=\u001b[39;49m\u001b[43merrors\u001b[49m\u001b[43m)\u001b[49m\n\u001b[1;32m   4790\u001b[0m \u001b[38;5;28;01mif\u001b[39;00m inplace:\n\u001b[1;32m   4791\u001b[0m     \u001b[38;5;28mself\u001b[39m\u001b[38;5;241m.\u001b[39m_update_inplace(obj)\n",
      "File \u001b[0;32m~/Documents/Logistic_optimization/venv/lib/python3.12/site-packages/pandas/core/generic.py:4830\u001b[0m, in \u001b[0;36mNDFrame._drop_axis\u001b[0;34m(self, labels, axis, level, errors, only_slice)\u001b[0m\n\u001b[1;32m   4828\u001b[0m         new_axis \u001b[38;5;241m=\u001b[39m axis\u001b[38;5;241m.\u001b[39mdrop(labels, level\u001b[38;5;241m=\u001b[39mlevel, errors\u001b[38;5;241m=\u001b[39merrors)\n\u001b[1;32m   4829\u001b[0m     \u001b[38;5;28;01melse\u001b[39;00m:\n\u001b[0;32m-> 4830\u001b[0m         new_axis \u001b[38;5;241m=\u001b[39m \u001b[43maxis\u001b[49m\u001b[38;5;241;43m.\u001b[39;49m\u001b[43mdrop\u001b[49m\u001b[43m(\u001b[49m\u001b[43mlabels\u001b[49m\u001b[43m,\u001b[49m\u001b[43m \u001b[49m\u001b[43merrors\u001b[49m\u001b[38;5;241;43m=\u001b[39;49m\u001b[43merrors\u001b[49m\u001b[43m)\u001b[49m\n\u001b[1;32m   4831\u001b[0m     indexer \u001b[38;5;241m=\u001b[39m axis\u001b[38;5;241m.\u001b[39mget_indexer(new_axis)\n\u001b[1;32m   4833\u001b[0m \u001b[38;5;66;03m# Case for non-unique axis\u001b[39;00m\n\u001b[1;32m   4834\u001b[0m \u001b[38;5;28;01melse\u001b[39;00m:\n",
      "File \u001b[0;32m~/Documents/Logistic_optimization/venv/lib/python3.12/site-packages/pandas/core/indexes/base.py:7070\u001b[0m, in \u001b[0;36mIndex.drop\u001b[0;34m(self, labels, errors)\u001b[0m\n\u001b[1;32m   7068\u001b[0m \u001b[38;5;28;01mif\u001b[39;00m mask\u001b[38;5;241m.\u001b[39many():\n\u001b[1;32m   7069\u001b[0m     \u001b[38;5;28;01mif\u001b[39;00m errors \u001b[38;5;241m!=\u001b[39m \u001b[38;5;124m\"\u001b[39m\u001b[38;5;124mignore\u001b[39m\u001b[38;5;124m\"\u001b[39m:\n\u001b[0;32m-> 7070\u001b[0m         \u001b[38;5;28;01mraise\u001b[39;00m \u001b[38;5;167;01mKeyError\u001b[39;00m(\u001b[38;5;124mf\u001b[39m\u001b[38;5;124m\"\u001b[39m\u001b[38;5;132;01m{\u001b[39;00mlabels[mask]\u001b[38;5;241m.\u001b[39mtolist()\u001b[38;5;132;01m}\u001b[39;00m\u001b[38;5;124m not found in axis\u001b[39m\u001b[38;5;124m\"\u001b[39m)\n\u001b[1;32m   7071\u001b[0m     indexer \u001b[38;5;241m=\u001b[39m indexer[\u001b[38;5;241m~\u001b[39mmask]\n\u001b[1;32m   7072\u001b[0m \u001b[38;5;28;01mreturn\u001b[39;00m \u001b[38;5;28mself\u001b[39m\u001b[38;5;241m.\u001b[39mdelete(indexer)\n",
      "\u001b[0;31mKeyError\u001b[0m: \"['Trip Origin', 'Trip Start Time', 'Trip End Time', 'Trip Destination', 'Driver Location'] not found in axis\""
     ]
    }
   ],
   "source": [
    "train_df = train_df.drop(['Trip Origin', 'Trip Start Time', 'Trip End Time', 'Trip Destination', 'Driver Location', 'datetime', 'date'], axis=1)"
   ]
  },
  {
   "cell_type": "code",
   "execution_count": null,
   "metadata": {},
   "outputs": [],
   "source": [
    "holdout_df = holdout_df.drop(['Trip Origin', 'Trip Start Time', 'Trip End Time', 'Trip Destination', 'Driver Location', 'datetime', 'date'], axis=1)"
   ]
  },
  {
   "cell_type": "code",
   "execution_count": null,
   "metadata": {},
   "outputs": [
    {
     "ename": "TypeError",
     "evalue": "Cannot cast DatetimeArray to dtype float32",
     "output_type": "error",
     "traceback": [
      "\u001b[0;31m---------------------------------------------------------------------------\u001b[0m",
      "\u001b[0;31mTypeError\u001b[0m                                 Traceback (most recent call last)",
      "Cell \u001b[0;32mIn[23], line 12\u001b[0m\n\u001b[1;32m      9\u001b[0m y_holdout \u001b[38;5;241m=\u001b[39m holdout_df[\u001b[38;5;124m'\u001b[39m\u001b[38;5;124munfulfilled_requests\u001b[39m\u001b[38;5;124m'\u001b[39m]\n\u001b[1;32m     11\u001b[0m rf_all \u001b[38;5;241m=\u001b[39m RandomForestRegressor()\n\u001b[0;32m---> 12\u001b[0m \u001b[43mrf_all\u001b[49m\u001b[38;5;241;43m.\u001b[39;49m\u001b[43mfit\u001b[49m\u001b[43m(\u001b[49m\u001b[43mX_train\u001b[49m\u001b[43m,\u001b[49m\u001b[43m \u001b[49m\u001b[43my_train\u001b[49m\u001b[43m)\u001b[49m\n\u001b[1;32m     13\u001b[0m xgb_all \u001b[38;5;241m=\u001b[39m XGBRegressor()\n\u001b[1;32m     14\u001b[0m xgb_all\u001b[38;5;241m.\u001b[39mfit(X_train, y_train)\n",
      "File \u001b[0;32m~/Documents/Logistic_optimization/venv/lib/python3.12/site-packages/sklearn/base.py:1473\u001b[0m, in \u001b[0;36m_fit_context.<locals>.decorator.<locals>.wrapper\u001b[0;34m(estimator, *args, **kwargs)\u001b[0m\n\u001b[1;32m   1466\u001b[0m     estimator\u001b[38;5;241m.\u001b[39m_validate_params()\n\u001b[1;32m   1468\u001b[0m \u001b[38;5;28;01mwith\u001b[39;00m config_context(\n\u001b[1;32m   1469\u001b[0m     skip_parameter_validation\u001b[38;5;241m=\u001b[39m(\n\u001b[1;32m   1470\u001b[0m         prefer_skip_nested_validation \u001b[38;5;129;01mor\u001b[39;00m global_skip_validation\n\u001b[1;32m   1471\u001b[0m     )\n\u001b[1;32m   1472\u001b[0m ):\n\u001b[0;32m-> 1473\u001b[0m     \u001b[38;5;28;01mreturn\u001b[39;00m \u001b[43mfit_method\u001b[49m\u001b[43m(\u001b[49m\u001b[43mestimator\u001b[49m\u001b[43m,\u001b[49m\u001b[43m \u001b[49m\u001b[38;5;241;43m*\u001b[39;49m\u001b[43margs\u001b[49m\u001b[43m,\u001b[49m\u001b[43m \u001b[49m\u001b[38;5;241;43m*\u001b[39;49m\u001b[38;5;241;43m*\u001b[39;49m\u001b[43mkwargs\u001b[49m\u001b[43m)\u001b[49m\n",
      "File \u001b[0;32m~/Documents/Logistic_optimization/venv/lib/python3.12/site-packages/sklearn/ensemble/_forest.py:363\u001b[0m, in \u001b[0;36mBaseForest.fit\u001b[0;34m(self, X, y, sample_weight)\u001b[0m\n\u001b[1;32m    360\u001b[0m \u001b[38;5;28;01mif\u001b[39;00m issparse(y):\n\u001b[1;32m    361\u001b[0m     \u001b[38;5;28;01mraise\u001b[39;00m \u001b[38;5;167;01mValueError\u001b[39;00m(\u001b[38;5;124m\"\u001b[39m\u001b[38;5;124msparse multilabel-indicator for y is not supported.\u001b[39m\u001b[38;5;124m\"\u001b[39m)\n\u001b[0;32m--> 363\u001b[0m X, y \u001b[38;5;241m=\u001b[39m \u001b[38;5;28;43mself\u001b[39;49m\u001b[38;5;241;43m.\u001b[39;49m\u001b[43m_validate_data\u001b[49m\u001b[43m(\u001b[49m\n\u001b[1;32m    364\u001b[0m \u001b[43m    \u001b[49m\u001b[43mX\u001b[49m\u001b[43m,\u001b[49m\n\u001b[1;32m    365\u001b[0m \u001b[43m    \u001b[49m\u001b[43my\u001b[49m\u001b[43m,\u001b[49m\n\u001b[1;32m    366\u001b[0m \u001b[43m    \u001b[49m\u001b[43mmulti_output\u001b[49m\u001b[38;5;241;43m=\u001b[39;49m\u001b[38;5;28;43;01mTrue\u001b[39;49;00m\u001b[43m,\u001b[49m\n\u001b[1;32m    367\u001b[0m \u001b[43m    \u001b[49m\u001b[43maccept_sparse\u001b[49m\u001b[38;5;241;43m=\u001b[39;49m\u001b[38;5;124;43m\"\u001b[39;49m\u001b[38;5;124;43mcsc\u001b[39;49m\u001b[38;5;124;43m\"\u001b[39;49m\u001b[43m,\u001b[49m\n\u001b[1;32m    368\u001b[0m \u001b[43m    \u001b[49m\u001b[43mdtype\u001b[49m\u001b[38;5;241;43m=\u001b[39;49m\u001b[43mDTYPE\u001b[49m\u001b[43m,\u001b[49m\n\u001b[1;32m    369\u001b[0m \u001b[43m    \u001b[49m\u001b[43mforce_all_finite\u001b[49m\u001b[38;5;241;43m=\u001b[39;49m\u001b[38;5;28;43;01mFalse\u001b[39;49;00m\u001b[43m,\u001b[49m\n\u001b[1;32m    370\u001b[0m \u001b[43m\u001b[49m\u001b[43m)\u001b[49m\n\u001b[1;32m    371\u001b[0m \u001b[38;5;66;03m# _compute_missing_values_in_feature_mask checks if X has missing values and\u001b[39;00m\n\u001b[1;32m    372\u001b[0m \u001b[38;5;66;03m# will raise an error if the underlying tree base estimator can't handle missing\u001b[39;00m\n\u001b[1;32m    373\u001b[0m \u001b[38;5;66;03m# values. Only the criterion is required to determine if the tree supports\u001b[39;00m\n\u001b[1;32m    374\u001b[0m \u001b[38;5;66;03m# missing values.\u001b[39;00m\n\u001b[1;32m    375\u001b[0m estimator \u001b[38;5;241m=\u001b[39m \u001b[38;5;28mtype\u001b[39m(\u001b[38;5;28mself\u001b[39m\u001b[38;5;241m.\u001b[39mestimator)(criterion\u001b[38;5;241m=\u001b[39m\u001b[38;5;28mself\u001b[39m\u001b[38;5;241m.\u001b[39mcriterion)\n",
      "File \u001b[0;32m~/Documents/Logistic_optimization/venv/lib/python3.12/site-packages/sklearn/base.py:650\u001b[0m, in \u001b[0;36mBaseEstimator._validate_data\u001b[0;34m(self, X, y, reset, validate_separately, cast_to_ndarray, **check_params)\u001b[0m\n\u001b[1;32m    648\u001b[0m         y \u001b[38;5;241m=\u001b[39m check_array(y, input_name\u001b[38;5;241m=\u001b[39m\u001b[38;5;124m\"\u001b[39m\u001b[38;5;124my\u001b[39m\u001b[38;5;124m\"\u001b[39m, \u001b[38;5;241m*\u001b[39m\u001b[38;5;241m*\u001b[39mcheck_y_params)\n\u001b[1;32m    649\u001b[0m     \u001b[38;5;28;01melse\u001b[39;00m:\n\u001b[0;32m--> 650\u001b[0m         X, y \u001b[38;5;241m=\u001b[39m \u001b[43mcheck_X_y\u001b[49m\u001b[43m(\u001b[49m\u001b[43mX\u001b[49m\u001b[43m,\u001b[49m\u001b[43m \u001b[49m\u001b[43my\u001b[49m\u001b[43m,\u001b[49m\u001b[43m \u001b[49m\u001b[38;5;241;43m*\u001b[39;49m\u001b[38;5;241;43m*\u001b[39;49m\u001b[43mcheck_params\u001b[49m\u001b[43m)\u001b[49m\n\u001b[1;32m    651\u001b[0m     out \u001b[38;5;241m=\u001b[39m X, y\n\u001b[1;32m    653\u001b[0m \u001b[38;5;28;01mif\u001b[39;00m \u001b[38;5;129;01mnot\u001b[39;00m no_val_X \u001b[38;5;129;01mand\u001b[39;00m check_params\u001b[38;5;241m.\u001b[39mget(\u001b[38;5;124m\"\u001b[39m\u001b[38;5;124mensure_2d\u001b[39m\u001b[38;5;124m\"\u001b[39m, \u001b[38;5;28;01mTrue\u001b[39;00m):\n",
      "File \u001b[0;32m~/Documents/Logistic_optimization/venv/lib/python3.12/site-packages/sklearn/utils/validation.py:1273\u001b[0m, in \u001b[0;36mcheck_X_y\u001b[0;34m(X, y, accept_sparse, accept_large_sparse, dtype, order, copy, force_all_finite, ensure_2d, allow_nd, multi_output, ensure_min_samples, ensure_min_features, y_numeric, estimator)\u001b[0m\n\u001b[1;32m   1268\u001b[0m         estimator_name \u001b[38;5;241m=\u001b[39m _check_estimator_name(estimator)\n\u001b[1;32m   1269\u001b[0m     \u001b[38;5;28;01mraise\u001b[39;00m \u001b[38;5;167;01mValueError\u001b[39;00m(\n\u001b[1;32m   1270\u001b[0m         \u001b[38;5;124mf\u001b[39m\u001b[38;5;124m\"\u001b[39m\u001b[38;5;132;01m{\u001b[39;00mestimator_name\u001b[38;5;132;01m}\u001b[39;00m\u001b[38;5;124m requires y to be passed, but the target y is None\u001b[39m\u001b[38;5;124m\"\u001b[39m\n\u001b[1;32m   1271\u001b[0m     )\n\u001b[0;32m-> 1273\u001b[0m X \u001b[38;5;241m=\u001b[39m \u001b[43mcheck_array\u001b[49m\u001b[43m(\u001b[49m\n\u001b[1;32m   1274\u001b[0m \u001b[43m    \u001b[49m\u001b[43mX\u001b[49m\u001b[43m,\u001b[49m\n\u001b[1;32m   1275\u001b[0m \u001b[43m    \u001b[49m\u001b[43maccept_sparse\u001b[49m\u001b[38;5;241;43m=\u001b[39;49m\u001b[43maccept_sparse\u001b[49m\u001b[43m,\u001b[49m\n\u001b[1;32m   1276\u001b[0m \u001b[43m    \u001b[49m\u001b[43maccept_large_sparse\u001b[49m\u001b[38;5;241;43m=\u001b[39;49m\u001b[43maccept_large_sparse\u001b[49m\u001b[43m,\u001b[49m\n\u001b[1;32m   1277\u001b[0m \u001b[43m    \u001b[49m\u001b[43mdtype\u001b[49m\u001b[38;5;241;43m=\u001b[39;49m\u001b[43mdtype\u001b[49m\u001b[43m,\u001b[49m\n\u001b[1;32m   1278\u001b[0m \u001b[43m    \u001b[49m\u001b[43morder\u001b[49m\u001b[38;5;241;43m=\u001b[39;49m\u001b[43morder\u001b[49m\u001b[43m,\u001b[49m\n\u001b[1;32m   1279\u001b[0m \u001b[43m    \u001b[49m\u001b[43mcopy\u001b[49m\u001b[38;5;241;43m=\u001b[39;49m\u001b[43mcopy\u001b[49m\u001b[43m,\u001b[49m\n\u001b[1;32m   1280\u001b[0m \u001b[43m    \u001b[49m\u001b[43mforce_all_finite\u001b[49m\u001b[38;5;241;43m=\u001b[39;49m\u001b[43mforce_all_finite\u001b[49m\u001b[43m,\u001b[49m\n\u001b[1;32m   1281\u001b[0m \u001b[43m    \u001b[49m\u001b[43mensure_2d\u001b[49m\u001b[38;5;241;43m=\u001b[39;49m\u001b[43mensure_2d\u001b[49m\u001b[43m,\u001b[49m\n\u001b[1;32m   1282\u001b[0m \u001b[43m    \u001b[49m\u001b[43mallow_nd\u001b[49m\u001b[38;5;241;43m=\u001b[39;49m\u001b[43mallow_nd\u001b[49m\u001b[43m,\u001b[49m\n\u001b[1;32m   1283\u001b[0m \u001b[43m    \u001b[49m\u001b[43mensure_min_samples\u001b[49m\u001b[38;5;241;43m=\u001b[39;49m\u001b[43mensure_min_samples\u001b[49m\u001b[43m,\u001b[49m\n\u001b[1;32m   1284\u001b[0m \u001b[43m    \u001b[49m\u001b[43mensure_min_features\u001b[49m\u001b[38;5;241;43m=\u001b[39;49m\u001b[43mensure_min_features\u001b[49m\u001b[43m,\u001b[49m\n\u001b[1;32m   1285\u001b[0m \u001b[43m    \u001b[49m\u001b[43mestimator\u001b[49m\u001b[38;5;241;43m=\u001b[39;49m\u001b[43mestimator\u001b[49m\u001b[43m,\u001b[49m\n\u001b[1;32m   1286\u001b[0m \u001b[43m    \u001b[49m\u001b[43minput_name\u001b[49m\u001b[38;5;241;43m=\u001b[39;49m\u001b[38;5;124;43m\"\u001b[39;49m\u001b[38;5;124;43mX\u001b[39;49m\u001b[38;5;124;43m\"\u001b[39;49m\u001b[43m,\u001b[49m\n\u001b[1;32m   1287\u001b[0m \u001b[43m\u001b[49m\u001b[43m)\u001b[49m\n\u001b[1;32m   1289\u001b[0m y \u001b[38;5;241m=\u001b[39m _check_y(y, multi_output\u001b[38;5;241m=\u001b[39mmulti_output, y_numeric\u001b[38;5;241m=\u001b[39my_numeric, estimator\u001b[38;5;241m=\u001b[39mestimator)\n\u001b[1;32m   1291\u001b[0m check_consistent_length(X, y)\n",
      "File \u001b[0;32m~/Documents/Logistic_optimization/venv/lib/python3.12/site-packages/sklearn/utils/validation.py:924\u001b[0m, in \u001b[0;36mcheck_array\u001b[0;34m(array, accept_sparse, accept_large_sparse, dtype, order, copy, force_all_finite, ensure_2d, allow_nd, ensure_min_samples, ensure_min_features, estimator, input_name)\u001b[0m\n\u001b[1;32m    919\u001b[0m \u001b[38;5;28;01mif\u001b[39;00m pandas_requires_conversion:\n\u001b[1;32m    920\u001b[0m     \u001b[38;5;66;03m# pandas dataframe requires conversion earlier to handle extension dtypes with\u001b[39;00m\n\u001b[1;32m    921\u001b[0m     \u001b[38;5;66;03m# nans\u001b[39;00m\n\u001b[1;32m    922\u001b[0m     \u001b[38;5;66;03m# Use the original dtype for conversion if dtype is None\u001b[39;00m\n\u001b[1;32m    923\u001b[0m     new_dtype \u001b[38;5;241m=\u001b[39m dtype_orig \u001b[38;5;28;01mif\u001b[39;00m dtype \u001b[38;5;129;01mis\u001b[39;00m \u001b[38;5;28;01mNone\u001b[39;00m \u001b[38;5;28;01melse\u001b[39;00m dtype\n\u001b[0;32m--> 924\u001b[0m     array \u001b[38;5;241m=\u001b[39m \u001b[43marray\u001b[49m\u001b[38;5;241;43m.\u001b[39;49m\u001b[43mastype\u001b[49m\u001b[43m(\u001b[49m\u001b[43mnew_dtype\u001b[49m\u001b[43m)\u001b[49m\n\u001b[1;32m    925\u001b[0m     \u001b[38;5;66;03m# Since we converted here, we do not need to convert again later\u001b[39;00m\n\u001b[1;32m    926\u001b[0m     dtype \u001b[38;5;241m=\u001b[39m \u001b[38;5;28;01mNone\u001b[39;00m\n",
      "File \u001b[0;32m~/Documents/Logistic_optimization/venv/lib/python3.12/site-packages/pandas/core/generic.py:6643\u001b[0m, in \u001b[0;36mNDFrame.astype\u001b[0;34m(self, dtype, copy, errors)\u001b[0m\n\u001b[1;32m   6637\u001b[0m     results \u001b[38;5;241m=\u001b[39m [\n\u001b[1;32m   6638\u001b[0m         ser\u001b[38;5;241m.\u001b[39mastype(dtype, copy\u001b[38;5;241m=\u001b[39mcopy, errors\u001b[38;5;241m=\u001b[39merrors) \u001b[38;5;28;01mfor\u001b[39;00m _, ser \u001b[38;5;129;01min\u001b[39;00m \u001b[38;5;28mself\u001b[39m\u001b[38;5;241m.\u001b[39mitems()\n\u001b[1;32m   6639\u001b[0m     ]\n\u001b[1;32m   6641\u001b[0m \u001b[38;5;28;01melse\u001b[39;00m:\n\u001b[1;32m   6642\u001b[0m     \u001b[38;5;66;03m# else, only a single dtype is given\u001b[39;00m\n\u001b[0;32m-> 6643\u001b[0m     new_data \u001b[38;5;241m=\u001b[39m \u001b[38;5;28;43mself\u001b[39;49m\u001b[38;5;241;43m.\u001b[39;49m\u001b[43m_mgr\u001b[49m\u001b[38;5;241;43m.\u001b[39;49m\u001b[43mastype\u001b[49m\u001b[43m(\u001b[49m\u001b[43mdtype\u001b[49m\u001b[38;5;241;43m=\u001b[39;49m\u001b[43mdtype\u001b[49m\u001b[43m,\u001b[49m\u001b[43m \u001b[49m\u001b[43mcopy\u001b[49m\u001b[38;5;241;43m=\u001b[39;49m\u001b[43mcopy\u001b[49m\u001b[43m,\u001b[49m\u001b[43m \u001b[49m\u001b[43merrors\u001b[49m\u001b[38;5;241;43m=\u001b[39;49m\u001b[43merrors\u001b[49m\u001b[43m)\u001b[49m\n\u001b[1;32m   6644\u001b[0m     res \u001b[38;5;241m=\u001b[39m \u001b[38;5;28mself\u001b[39m\u001b[38;5;241m.\u001b[39m_constructor_from_mgr(new_data, axes\u001b[38;5;241m=\u001b[39mnew_data\u001b[38;5;241m.\u001b[39maxes)\n\u001b[1;32m   6645\u001b[0m     \u001b[38;5;28;01mreturn\u001b[39;00m res\u001b[38;5;241m.\u001b[39m__finalize__(\u001b[38;5;28mself\u001b[39m, method\u001b[38;5;241m=\u001b[39m\u001b[38;5;124m\"\u001b[39m\u001b[38;5;124mastype\u001b[39m\u001b[38;5;124m\"\u001b[39m)\n",
      "File \u001b[0;32m~/Documents/Logistic_optimization/venv/lib/python3.12/site-packages/pandas/core/internals/managers.py:430\u001b[0m, in \u001b[0;36mBaseBlockManager.astype\u001b[0;34m(self, dtype, copy, errors)\u001b[0m\n\u001b[1;32m    427\u001b[0m \u001b[38;5;28;01melif\u001b[39;00m using_copy_on_write():\n\u001b[1;32m    428\u001b[0m     copy \u001b[38;5;241m=\u001b[39m \u001b[38;5;28;01mFalse\u001b[39;00m\n\u001b[0;32m--> 430\u001b[0m \u001b[38;5;28;01mreturn\u001b[39;00m \u001b[38;5;28;43mself\u001b[39;49m\u001b[38;5;241;43m.\u001b[39;49m\u001b[43mapply\u001b[49m\u001b[43m(\u001b[49m\n\u001b[1;32m    431\u001b[0m \u001b[43m    \u001b[49m\u001b[38;5;124;43m\"\u001b[39;49m\u001b[38;5;124;43mastype\u001b[39;49m\u001b[38;5;124;43m\"\u001b[39;49m\u001b[43m,\u001b[49m\n\u001b[1;32m    432\u001b[0m \u001b[43m    \u001b[49m\u001b[43mdtype\u001b[49m\u001b[38;5;241;43m=\u001b[39;49m\u001b[43mdtype\u001b[49m\u001b[43m,\u001b[49m\n\u001b[1;32m    433\u001b[0m \u001b[43m    \u001b[49m\u001b[43mcopy\u001b[49m\u001b[38;5;241;43m=\u001b[39;49m\u001b[43mcopy\u001b[49m\u001b[43m,\u001b[49m\n\u001b[1;32m    434\u001b[0m \u001b[43m    \u001b[49m\u001b[43merrors\u001b[49m\u001b[38;5;241;43m=\u001b[39;49m\u001b[43merrors\u001b[49m\u001b[43m,\u001b[49m\n\u001b[1;32m    435\u001b[0m \u001b[43m    \u001b[49m\u001b[43musing_cow\u001b[49m\u001b[38;5;241;43m=\u001b[39;49m\u001b[43musing_copy_on_write\u001b[49m\u001b[43m(\u001b[49m\u001b[43m)\u001b[49m\u001b[43m,\u001b[49m\n\u001b[1;32m    436\u001b[0m \u001b[43m\u001b[49m\u001b[43m)\u001b[49m\n",
      "File \u001b[0;32m~/Documents/Logistic_optimization/venv/lib/python3.12/site-packages/pandas/core/internals/managers.py:363\u001b[0m, in \u001b[0;36mBaseBlockManager.apply\u001b[0;34m(self, f, align_keys, **kwargs)\u001b[0m\n\u001b[1;32m    361\u001b[0m         applied \u001b[38;5;241m=\u001b[39m b\u001b[38;5;241m.\u001b[39mapply(f, \u001b[38;5;241m*\u001b[39m\u001b[38;5;241m*\u001b[39mkwargs)\n\u001b[1;32m    362\u001b[0m     \u001b[38;5;28;01melse\u001b[39;00m:\n\u001b[0;32m--> 363\u001b[0m         applied \u001b[38;5;241m=\u001b[39m \u001b[38;5;28;43mgetattr\u001b[39;49m\u001b[43m(\u001b[49m\u001b[43mb\u001b[49m\u001b[43m,\u001b[49m\u001b[43m \u001b[49m\u001b[43mf\u001b[49m\u001b[43m)\u001b[49m\u001b[43m(\u001b[49m\u001b[38;5;241;43m*\u001b[39;49m\u001b[38;5;241;43m*\u001b[39;49m\u001b[43mkwargs\u001b[49m\u001b[43m)\u001b[49m\n\u001b[1;32m    364\u001b[0m     result_blocks \u001b[38;5;241m=\u001b[39m extend_blocks(applied, result_blocks)\n\u001b[1;32m    366\u001b[0m out \u001b[38;5;241m=\u001b[39m \u001b[38;5;28mtype\u001b[39m(\u001b[38;5;28mself\u001b[39m)\u001b[38;5;241m.\u001b[39mfrom_blocks(result_blocks, \u001b[38;5;28mself\u001b[39m\u001b[38;5;241m.\u001b[39maxes)\n",
      "File \u001b[0;32m~/Documents/Logistic_optimization/venv/lib/python3.12/site-packages/pandas/core/internals/blocks.py:758\u001b[0m, in \u001b[0;36mBlock.astype\u001b[0;34m(self, dtype, copy, errors, using_cow, squeeze)\u001b[0m\n\u001b[1;32m    755\u001b[0m         \u001b[38;5;28;01mraise\u001b[39;00m \u001b[38;5;167;01mValueError\u001b[39;00m(\u001b[38;5;124m\"\u001b[39m\u001b[38;5;124mCan not squeeze with more than one column.\u001b[39m\u001b[38;5;124m\"\u001b[39m)\n\u001b[1;32m    756\u001b[0m     values \u001b[38;5;241m=\u001b[39m values[\u001b[38;5;241m0\u001b[39m, :]  \u001b[38;5;66;03m# type: ignore[call-overload]\u001b[39;00m\n\u001b[0;32m--> 758\u001b[0m new_values \u001b[38;5;241m=\u001b[39m \u001b[43mastype_array_safe\u001b[49m\u001b[43m(\u001b[49m\u001b[43mvalues\u001b[49m\u001b[43m,\u001b[49m\u001b[43m \u001b[49m\u001b[43mdtype\u001b[49m\u001b[43m,\u001b[49m\u001b[43m \u001b[49m\u001b[43mcopy\u001b[49m\u001b[38;5;241;43m=\u001b[39;49m\u001b[43mcopy\u001b[49m\u001b[43m,\u001b[49m\u001b[43m \u001b[49m\u001b[43merrors\u001b[49m\u001b[38;5;241;43m=\u001b[39;49m\u001b[43merrors\u001b[49m\u001b[43m)\u001b[49m\n\u001b[1;32m    760\u001b[0m new_values \u001b[38;5;241m=\u001b[39m maybe_coerce_values(new_values)\n\u001b[1;32m    762\u001b[0m refs \u001b[38;5;241m=\u001b[39m \u001b[38;5;28;01mNone\u001b[39;00m\n",
      "File \u001b[0;32m~/Documents/Logistic_optimization/venv/lib/python3.12/site-packages/pandas/core/dtypes/astype.py:237\u001b[0m, in \u001b[0;36mastype_array_safe\u001b[0;34m(values, dtype, copy, errors)\u001b[0m\n\u001b[1;32m    234\u001b[0m     dtype \u001b[38;5;241m=\u001b[39m dtype\u001b[38;5;241m.\u001b[39mnumpy_dtype\n\u001b[1;32m    236\u001b[0m \u001b[38;5;28;01mtry\u001b[39;00m:\n\u001b[0;32m--> 237\u001b[0m     new_values \u001b[38;5;241m=\u001b[39m \u001b[43mastype_array\u001b[49m\u001b[43m(\u001b[49m\u001b[43mvalues\u001b[49m\u001b[43m,\u001b[49m\u001b[43m \u001b[49m\u001b[43mdtype\u001b[49m\u001b[43m,\u001b[49m\u001b[43m \u001b[49m\u001b[43mcopy\u001b[49m\u001b[38;5;241;43m=\u001b[39;49m\u001b[43mcopy\u001b[49m\u001b[43m)\u001b[49m\n\u001b[1;32m    238\u001b[0m \u001b[38;5;28;01mexcept\u001b[39;00m (\u001b[38;5;167;01mValueError\u001b[39;00m, \u001b[38;5;167;01mTypeError\u001b[39;00m):\n\u001b[1;32m    239\u001b[0m     \u001b[38;5;66;03m# e.g. _astype_nansafe can fail on object-dtype of strings\u001b[39;00m\n\u001b[1;32m    240\u001b[0m     \u001b[38;5;66;03m#  trying to convert to float\u001b[39;00m\n\u001b[1;32m    241\u001b[0m     \u001b[38;5;28;01mif\u001b[39;00m errors \u001b[38;5;241m==\u001b[39m \u001b[38;5;124m\"\u001b[39m\u001b[38;5;124mignore\u001b[39m\u001b[38;5;124m\"\u001b[39m:\n",
      "File \u001b[0;32m~/Documents/Logistic_optimization/venv/lib/python3.12/site-packages/pandas/core/dtypes/astype.py:179\u001b[0m, in \u001b[0;36mastype_array\u001b[0;34m(values, dtype, copy)\u001b[0m\n\u001b[1;32m    175\u001b[0m     \u001b[38;5;28;01mreturn\u001b[39;00m values\n\u001b[1;32m    177\u001b[0m \u001b[38;5;28;01mif\u001b[39;00m \u001b[38;5;129;01mnot\u001b[39;00m \u001b[38;5;28misinstance\u001b[39m(values, np\u001b[38;5;241m.\u001b[39mndarray):\n\u001b[1;32m    178\u001b[0m     \u001b[38;5;66;03m# i.e. ExtensionArray\u001b[39;00m\n\u001b[0;32m--> 179\u001b[0m     values \u001b[38;5;241m=\u001b[39m \u001b[43mvalues\u001b[49m\u001b[38;5;241;43m.\u001b[39;49m\u001b[43mastype\u001b[49m\u001b[43m(\u001b[49m\u001b[43mdtype\u001b[49m\u001b[43m,\u001b[49m\u001b[43m \u001b[49m\u001b[43mcopy\u001b[49m\u001b[38;5;241;43m=\u001b[39;49m\u001b[43mcopy\u001b[49m\u001b[43m)\u001b[49m\n\u001b[1;32m    181\u001b[0m \u001b[38;5;28;01melse\u001b[39;00m:\n\u001b[1;32m    182\u001b[0m     values \u001b[38;5;241m=\u001b[39m _astype_nansafe(values, dtype, copy\u001b[38;5;241m=\u001b[39mcopy)\n",
      "File \u001b[0;32m~/Documents/Logistic_optimization/venv/lib/python3.12/site-packages/pandas/core/arrays/datetimes.py:739\u001b[0m, in \u001b[0;36mDatetimeArray.astype\u001b[0;34m(self, dtype, copy)\u001b[0m\n\u001b[1;32m    737\u001b[0m \u001b[38;5;28;01melif\u001b[39;00m \u001b[38;5;28misinstance\u001b[39m(dtype, PeriodDtype):\n\u001b[1;32m    738\u001b[0m     \u001b[38;5;28;01mreturn\u001b[39;00m \u001b[38;5;28mself\u001b[39m\u001b[38;5;241m.\u001b[39mto_period(freq\u001b[38;5;241m=\u001b[39mdtype\u001b[38;5;241m.\u001b[39mfreq)\n\u001b[0;32m--> 739\u001b[0m \u001b[38;5;28;01mreturn\u001b[39;00m \u001b[43mdtl\u001b[49m\u001b[38;5;241;43m.\u001b[39;49m\u001b[43mDatetimeLikeArrayMixin\u001b[49m\u001b[38;5;241;43m.\u001b[39;49m\u001b[43mastype\u001b[49m\u001b[43m(\u001b[49m\u001b[38;5;28;43mself\u001b[39;49m\u001b[43m,\u001b[49m\u001b[43m \u001b[49m\u001b[43mdtype\u001b[49m\u001b[43m,\u001b[49m\u001b[43m \u001b[49m\u001b[43mcopy\u001b[49m\u001b[43m)\u001b[49m\n",
      "File \u001b[0;32m~/Documents/Logistic_optimization/venv/lib/python3.12/site-packages/pandas/core/arrays/datetimelike.py:494\u001b[0m, in \u001b[0;36mDatetimeLikeArrayMixin.astype\u001b[0;34m(self, dtype, copy)\u001b[0m\n\u001b[1;32m    490\u001b[0m \u001b[38;5;28;01melif\u001b[39;00m (dtype\u001b[38;5;241m.\u001b[39mkind \u001b[38;5;129;01min\u001b[39;00m \u001b[38;5;124m\"\u001b[39m\u001b[38;5;124mmM\u001b[39m\u001b[38;5;124m\"\u001b[39m \u001b[38;5;129;01mand\u001b[39;00m \u001b[38;5;28mself\u001b[39m\u001b[38;5;241m.\u001b[39mdtype \u001b[38;5;241m!=\u001b[39m dtype) \u001b[38;5;129;01mor\u001b[39;00m dtype\u001b[38;5;241m.\u001b[39mkind \u001b[38;5;241m==\u001b[39m \u001b[38;5;124m\"\u001b[39m\u001b[38;5;124mf\u001b[39m\u001b[38;5;124m\"\u001b[39m:\n\u001b[1;32m    491\u001b[0m     \u001b[38;5;66;03m# disallow conversion between datetime/timedelta,\u001b[39;00m\n\u001b[1;32m    492\u001b[0m     \u001b[38;5;66;03m# and conversions for any datetimelike to float\u001b[39;00m\n\u001b[1;32m    493\u001b[0m     msg \u001b[38;5;241m=\u001b[39m \u001b[38;5;124mf\u001b[39m\u001b[38;5;124m\"\u001b[39m\u001b[38;5;124mCannot cast \u001b[39m\u001b[38;5;132;01m{\u001b[39;00m\u001b[38;5;28mtype\u001b[39m(\u001b[38;5;28mself\u001b[39m)\u001b[38;5;241m.\u001b[39m\u001b[38;5;18m__name__\u001b[39m\u001b[38;5;132;01m}\u001b[39;00m\u001b[38;5;124m to dtype \u001b[39m\u001b[38;5;132;01m{\u001b[39;00mdtype\u001b[38;5;132;01m}\u001b[39;00m\u001b[38;5;124m\"\u001b[39m\n\u001b[0;32m--> 494\u001b[0m     \u001b[38;5;28;01mraise\u001b[39;00m \u001b[38;5;167;01mTypeError\u001b[39;00m(msg)\n\u001b[1;32m    495\u001b[0m \u001b[38;5;28;01melse\u001b[39;00m:\n\u001b[1;32m    496\u001b[0m     \u001b[38;5;28;01mreturn\u001b[39;00m np\u001b[38;5;241m.\u001b[39masarray(\u001b[38;5;28mself\u001b[39m, dtype\u001b[38;5;241m=\u001b[39mdtype)\n",
      "\u001b[0;31mTypeError\u001b[0m: Cannot cast DatetimeArray to dtype float32"
     ]
    }
   ],
   "source": [
    "from sklearn.ensemble import RandomForestRegressor\n",
    "from xgboost import XGBRegressor\n",
    "from sklearn.metrics import mean_squared_error\n",
    "\n",
    "# Using all variables\n",
    "X_train = train_df.drop(columns=['unfulfilled_requests'])\n",
    "y_train = train_df['unfulfilled_requests']\n",
    "X_holdout = holdout_df.drop(columns=['unfulfilled_requests'])\n",
    "y_holdout = holdout_df['unfulfilled_requests']\n",
    "\n",
    "rf_all = RandomForestRegressor()\n",
    "rf_all.fit(X_train, y_train)\n",
    "xgb_all = XGBRegressor()\n",
    "xgb_all.fit(X_train, y_train)\n",
    "\n",
    "# Using selected variables\n",
    "X_train_selected = train_df[direct_parents]\n",
    "X_holdout_selected = holdout_df[direct_parents]\n",
    "\n",
    "rf_selected = RandomForestRegressor()\n",
    "rf_selected.fit(X_train_selected, y_train)\n",
    "xgb_selected = XGBRegressor()\n",
    "xgb_selected.fit(X_train_selected, y_train)\n",
    "\n",
    "# Measure overfitting\n",
    "def calculate_overfit(model, X_train, y_train, X_holdout, y_holdout):\n",
    "    train_pred = model.predict(X_train)\n",
    "    holdout_pred = model.predict(X_holdout)\n",
    "    train_mse = mean_squared_error(y_train, train_pred)\n",
    "    holdout_mse = mean_squared_error(y_holdout, holdout_pred)\n",
    "    overfit_metric = train_mse - holdout_mse\n",
    "    return overfit_metric\n",
    "\n",
    "models = {\n",
    "    \"rf_all\": rf_all,\n",
    "    \"xgb_all\": xgb_all,\n",
    "    \"rf_selected\": rf_selected,\n",
    "    \"xgb_selected\": xgb_selected\n",
    "}\n",
    "\n",
    "overfitting_results = {name: calculate_overfit(model, X_train, y_train, X_holdout, y_holdout)\n",
    "                       for name, model in models.items()}\n",
    "\n",
    "print(overfitting_results)"
   ]
  },
  {
   "cell_type": "markdown",
   "metadata": {},
   "source": [
    "Formulate the Optimization Problem"
   ]
  },
  {
   "cell_type": "code",
   "execution_count": null,
   "metadata": {},
   "outputs": [],
   "source": [
    "# Pseudo code for formulating the problem\n",
    "# Using PuLP or similar library for optimization\n",
    "\n",
    "from pulp import LpMaximize, LpProblem, LpVariable, lpSum\n",
    "\n",
    "# Define the problem\n",
    "prob = LpProblem(\"Driver_Placement_Optimization\", LpMaximize)\n",
    "\n",
    "# Define variables\n",
    "driver_positions = LpVariable.dicts(\"DriverPosition\", [(i, j) for i in range(n_drivers) for j in range(n_locations)], 0, 1, LpBinary)\n",
    "\n",
    "# Define constraints and objective function\n",
    "# ...\n",
    "\n",
    "# Solve the problem\n",
    "prob.solve()"
   ]
  }
 ],
 "metadata": {
  "kernelspec": {
   "display_name": "venv",
   "language": "python",
   "name": "python3"
  },
  "language_info": {
   "codemirror_mode": {
    "name": "ipython",
    "version": 3
   },
   "file_extension": ".py",
   "mimetype": "text/x-python",
   "name": "python",
   "nbconvert_exporter": "python",
   "pygments_lexer": "ipython3",
   "version": "3.12.3"
  }
 },
 "nbformat": 4,
 "nbformat_minor": 2
}
